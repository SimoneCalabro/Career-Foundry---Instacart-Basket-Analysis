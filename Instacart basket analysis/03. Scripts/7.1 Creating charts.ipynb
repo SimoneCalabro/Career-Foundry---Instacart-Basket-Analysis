{
 "cells": [
  {
   "cell_type": "markdown",
   "id": "c97d3b97",
   "metadata": {},
   "source": [
    "# 7.1 Creating charts\n",
    "** **\n",
    "## Table of contents:\n",
    "\n",
    "1. Importing libraries <br>\n",
    "2. Importing dataframe <br>\n",
    "3. Creating charts\n",
    "    - 3.1 Bar chart\n",
    "    - 3.2 Histogram\n",
    "    - 3.3 Scatterplot\n",
    "        - 3.3.1 Identifying and addressing the issue in \"prices\" column\n",
    "        - 3.3.2 Back to histogram\n",
    "    - 3.4 Line chart\n",
    "        - 3.4.1 Sampling\n",
    "        - 3.4.2 Creating the line chart\n",
    "** **"
   ]
  },
  {
   "cell_type": "markdown",
   "id": "4fd5b21f",
   "metadata": {},
   "source": [
    "# 1. Importing libraries\n",
    "** **"
   ]
  },
  {
   "cell_type": "code",
   "execution_count": 1,
   "id": "57316bd2",
   "metadata": {},
   "outputs": [],
   "source": [
    "import pandas as pd\n",
    "import numpy as np\n",
    "import os\n",
    "import matplotlib.pyplot as plt\n",
    "import seaborn as sns\n",
    "import scipy"
   ]
  },
  {
   "cell_type": "markdown",
   "id": "aff5b3e5",
   "metadata": {},
   "source": [
    "# 2. Importing dataframe\n",
    "** **"
   ]
  },
  {
   "cell_type": "code",
   "execution_count": 2,
   "id": "8c364f07",
   "metadata": {},
   "outputs": [],
   "source": [
    "# Creating a path variabile for the folder\n",
    "path = r'C:\\Users\\Simone\\Desktop\\Career Foundry\\Esercizi modulo 5\\Instacart basket analysis'"
   ]
  },
  {
   "cell_type": "code",
   "execution_count": 3,
   "id": "996036fe",
   "metadata": {},
   "outputs": [],
   "source": [
    "# Importing dataframe from Prepared Data\n",
    "df_ords_prods_merged = pd.read_pickle(os.path.join(path, '02. Data', 'Prepared Data', 'orders_products_merged_derived_flags.pkl'))"
   ]
  },
  {
   "cell_type": "code",
   "execution_count": 4,
   "id": "e32e635d",
   "metadata": {},
   "outputs": [
    {
     "data": {
      "text/html": [
       "<div>\n",
       "<style scoped>\n",
       "    .dataframe tbody tr th:only-of-type {\n",
       "        vertical-align: middle;\n",
       "    }\n",
       "\n",
       "    .dataframe tbody tr th {\n",
       "        vertical-align: top;\n",
       "    }\n",
       "\n",
       "    .dataframe thead th {\n",
       "        text-align: right;\n",
       "    }\n",
       "</style>\n",
       "<table border=\"1\" class=\"dataframe\">\n",
       "  <thead>\n",
       "    <tr style=\"text-align: right;\">\n",
       "      <th></th>\n",
       "      <th>order_id</th>\n",
       "      <th>user_id</th>\n",
       "      <th>order_number</th>\n",
       "      <th>orders_day_of_week</th>\n",
       "      <th>order_hour_of_creation</th>\n",
       "      <th>days_since_prior_order</th>\n",
       "      <th>product_id</th>\n",
       "      <th>add_to_cart_order</th>\n",
       "      <th>reordered</th>\n",
       "      <th>product_name</th>\n",
       "      <th>...</th>\n",
       "      <th>price_label</th>\n",
       "      <th>busiest_day</th>\n",
       "      <th>busiest_days</th>\n",
       "      <th>busiest_period_of_day</th>\n",
       "      <th>max_order</th>\n",
       "      <th>loyalty_flag</th>\n",
       "      <th>avg_price</th>\n",
       "      <th>spending_flag</th>\n",
       "      <th>median_days_since_prior_order</th>\n",
       "      <th>order_frequency_flag</th>\n",
       "    </tr>\n",
       "  </thead>\n",
       "  <tbody>\n",
       "    <tr>\n",
       "      <th>0</th>\n",
       "      <td>2398795</td>\n",
       "      <td>1</td>\n",
       "      <td>2</td>\n",
       "      <td>3</td>\n",
       "      <td>7</td>\n",
       "      <td>15.0</td>\n",
       "      <td>196</td>\n",
       "      <td>1</td>\n",
       "      <td>1</td>\n",
       "      <td>Soda</td>\n",
       "      <td>...</td>\n",
       "      <td>Mid-range product</td>\n",
       "      <td>Regularly busy</td>\n",
       "      <td>Least busy</td>\n",
       "      <td>Average orders</td>\n",
       "      <td>10</td>\n",
       "      <td>New customer</td>\n",
       "      <td>6.37</td>\n",
       "      <td>Low spender</td>\n",
       "      <td>20.5</td>\n",
       "      <td>Non-frequent customer</td>\n",
       "    </tr>\n",
       "    <tr>\n",
       "      <th>1</th>\n",
       "      <td>473747</td>\n",
       "      <td>1</td>\n",
       "      <td>3</td>\n",
       "      <td>3</td>\n",
       "      <td>12</td>\n",
       "      <td>21.0</td>\n",
       "      <td>196</td>\n",
       "      <td>1</td>\n",
       "      <td>1</td>\n",
       "      <td>Soda</td>\n",
       "      <td>...</td>\n",
       "      <td>Mid-range product</td>\n",
       "      <td>Regularly busy</td>\n",
       "      <td>Least busy</td>\n",
       "      <td>Most orders</td>\n",
       "      <td>10</td>\n",
       "      <td>New customer</td>\n",
       "      <td>6.37</td>\n",
       "      <td>Low spender</td>\n",
       "      <td>20.5</td>\n",
       "      <td>Non-frequent customer</td>\n",
       "    </tr>\n",
       "    <tr>\n",
       "      <th>2</th>\n",
       "      <td>2254736</td>\n",
       "      <td>1</td>\n",
       "      <td>4</td>\n",
       "      <td>4</td>\n",
       "      <td>7</td>\n",
       "      <td>29.0</td>\n",
       "      <td>196</td>\n",
       "      <td>1</td>\n",
       "      <td>1</td>\n",
       "      <td>Soda</td>\n",
       "      <td>...</td>\n",
       "      <td>Mid-range product</td>\n",
       "      <td>Least busy</td>\n",
       "      <td>Least busy</td>\n",
       "      <td>Average orders</td>\n",
       "      <td>10</td>\n",
       "      <td>New customer</td>\n",
       "      <td>6.37</td>\n",
       "      <td>Low spender</td>\n",
       "      <td>20.5</td>\n",
       "      <td>Non-frequent customer</td>\n",
       "    </tr>\n",
       "    <tr>\n",
       "      <th>3</th>\n",
       "      <td>431534</td>\n",
       "      <td>1</td>\n",
       "      <td>5</td>\n",
       "      <td>4</td>\n",
       "      <td>15</td>\n",
       "      <td>28.0</td>\n",
       "      <td>196</td>\n",
       "      <td>1</td>\n",
       "      <td>1</td>\n",
       "      <td>Soda</td>\n",
       "      <td>...</td>\n",
       "      <td>Mid-range product</td>\n",
       "      <td>Least busy</td>\n",
       "      <td>Least busy</td>\n",
       "      <td>Most orders</td>\n",
       "      <td>10</td>\n",
       "      <td>New customer</td>\n",
       "      <td>6.37</td>\n",
       "      <td>Low spender</td>\n",
       "      <td>20.5</td>\n",
       "      <td>Non-frequent customer</td>\n",
       "    </tr>\n",
       "    <tr>\n",
       "      <th>4</th>\n",
       "      <td>3367565</td>\n",
       "      <td>1</td>\n",
       "      <td>6</td>\n",
       "      <td>2</td>\n",
       "      <td>7</td>\n",
       "      <td>19.0</td>\n",
       "      <td>196</td>\n",
       "      <td>1</td>\n",
       "      <td>1</td>\n",
       "      <td>Soda</td>\n",
       "      <td>...</td>\n",
       "      <td>Mid-range product</td>\n",
       "      <td>Regularly busy</td>\n",
       "      <td>Regularly busy</td>\n",
       "      <td>Average orders</td>\n",
       "      <td>10</td>\n",
       "      <td>New customer</td>\n",
       "      <td>6.37</td>\n",
       "      <td>Low spender</td>\n",
       "      <td>20.5</td>\n",
       "      <td>Non-frequent customer</td>\n",
       "    </tr>\n",
       "  </tbody>\n",
       "</table>\n",
       "<p>5 rows × 23 columns</p>\n",
       "</div>"
      ],
      "text/plain": [
       "  order_id user_id order_number  orders_day_of_week  order_hour_of_creation  \\\n",
       "0  2398795       1            2                   3                       7   \n",
       "1   473747       1            3                   3                      12   \n",
       "2  2254736       1            4                   4                       7   \n",
       "3   431534       1            5                   4                      15   \n",
       "4  3367565       1            6                   2                       7   \n",
       "\n",
       "   days_since_prior_order product_id  add_to_cart_order  reordered  \\\n",
       "0                    15.0        196                  1          1   \n",
       "1                    21.0        196                  1          1   \n",
       "2                    29.0        196                  1          1   \n",
       "3                    28.0        196                  1          1   \n",
       "4                    19.0        196                  1          1   \n",
       "\n",
       "  product_name  ...        price_label     busiest_day    busiest_days  \\\n",
       "0         Soda  ...  Mid-range product  Regularly busy      Least busy   \n",
       "1         Soda  ...  Mid-range product  Regularly busy      Least busy   \n",
       "2         Soda  ...  Mid-range product      Least busy      Least busy   \n",
       "3         Soda  ...  Mid-range product      Least busy      Least busy   \n",
       "4         Soda  ...  Mid-range product  Regularly busy  Regularly busy   \n",
       "\n",
       "  busiest_period_of_day max_order  loyalty_flag avg_price  spending_flag  \\\n",
       "0        Average orders        10  New customer      6.37    Low spender   \n",
       "1           Most orders        10  New customer      6.37    Low spender   \n",
       "2        Average orders        10  New customer      6.37    Low spender   \n",
       "3           Most orders        10  New customer      6.37    Low spender   \n",
       "4        Average orders        10  New customer      6.37    Low spender   \n",
       "\n",
       "  median_days_since_prior_order   order_frequency_flag  \n",
       "0                          20.5  Non-frequent customer  \n",
       "1                          20.5  Non-frequent customer  \n",
       "2                          20.5  Non-frequent customer  \n",
       "3                          20.5  Non-frequent customer  \n",
       "4                          20.5  Non-frequent customer  \n",
       "\n",
       "[5 rows x 23 columns]"
      ]
     },
     "execution_count": 4,
     "metadata": {},
     "output_type": "execute_result"
    }
   ],
   "source": [
    "# Checking the head\n",
    "df_ords_prods_merged.head()"
   ]
  },
  {
   "cell_type": "markdown",
   "id": "96e10f2e",
   "metadata": {},
   "source": [
    "# 3. Creating charts\n",
    "** **"
   ]
  },
  {
   "cell_type": "markdown",
   "id": "40b98417",
   "metadata": {},
   "source": [
    "## 3.1 Bar charts"
   ]
  },
  {
   "cell_type": "markdown",
   "id": "e2ee5fa5",
   "metadata": {},
   "source": [
    "A bar chart can be used to visualize the count of values in a specific column."
   ]
  },
  {
   "cell_type": "code",
   "execution_count": 5,
   "id": "52bb4252",
   "metadata": {},
   "outputs": [
    {
     "data": {
      "text/plain": [
       "<AxesSubplot:>"
      ]
     },
     "execution_count": 5,
     "metadata": {},
     "output_type": "execute_result"
    },
    {
     "data": {
      "image/png": "[encoded data removed]",
      "text/plain": [
       "<Figure size 640x480 with 1 Axes>"
      ]
     },
     "metadata": {},
     "output_type": "display_data"
    }
   ],
   "source": [
    "# Creating a bar chart\n",
    "df_ords_prods_merged['orders_day_of_week'].value_counts().plot.bar()"
   ]
  },
  {
   "cell_type": "markdown",
   "id": "fd8cea90",
   "metadata": {},
   "source": [
    "The default option will sort the values in a descendant way, but is possible to sort them according to index as well."
   ]
  },
  {
   "cell_type": "code",
   "execution_count": 6,
   "id": "5704a6cf",
   "metadata": {},
   "outputs": [
    {
     "data": {
      "text/plain": [
       "<AxesSubplot:>"
      ]
     },
     "execution_count": 6,
     "metadata": {},
     "output_type": "execute_result"
    },
    {
     "data": {
      "image/png": "[encoded data removed]",
      "text/plain": [
       "<Figure size 640x480 with 1 Axes>"
      ]
     },
     "metadata": {},
     "output_type": "display_data"
    }
   ],
   "source": [
    "# Creating a new bar chart sorted on index\n",
    "df_ords_prods_merged['orders_day_of_week'].value_counts().sort_index().plot.bar()"
   ]
  },
  {
   "cell_type": "code",
   "execution_count": 7,
   "id": "a1fe6370",
   "metadata": {},
   "outputs": [
    {
     "data": {
      "text/plain": [
       "<AxesSubplot:>"
      ]
     },
     "execution_count": 7,
     "metadata": {},
     "output_type": "execute_result"
    },
    {
     "data": {
      "image/png": "[encoded data removed]",
      "text/plain": [
       "<Figure size 640x480 with 1 Axes>"
      ]
     },
     "metadata": {},
     "output_type": "display_data"
    }
   ],
   "source": [
    "# Adding colors\n",
    "df_ords_prods_merged['orders_day_of_week'].value_counts().plot.bar(color = ['purple', 'blue', 'brown', 'green', 'yellow', 'orange', 'red'])"
   ]
  },
  {
   "cell_type": "markdown",
   "id": "e9b86f0b",
   "metadata": {},
   "source": [
    "Charts can be also stored in an object and then exported (saved as png)."
   ]
  },
  {
   "cell_type": "code",
   "execution_count": 8,
   "id": "bd24ab78",
   "metadata": {},
   "outputs": [
    {
     "data": {
      "image/png": "[encoded data removed]",
      "text/plain": [
       "<Figure size 640x480 with 1 Axes>"
      ]
     },
     "metadata": {},
     "output_type": "display_data"
    }
   ],
   "source": [
    "# Creating a bar object\n",
    "bar = df_ords_prods_merged['orders_day_of_week'].value_counts().plot.bar(color = ['purple', 'blue', 'brown', 'green', 'yellow', 'orange', 'red'])"
   ]
  },
  {
   "cell_type": "code",
   "execution_count": 9,
   "id": "69673350",
   "metadata": {},
   "outputs": [],
   "source": [
    "# Exporting the file as png\n",
    "bar.figure.savefig(os.path.join(path, '04. Analysis','Visualizations', 'bar_orders_dow.png'))"
   ]
  },
  {
   "cell_type": "markdown",
   "id": "536f07a0",
   "metadata": {},
   "source": [
    "## 3.2 Histograms"
   ]
  },
  {
   "cell_type": "markdown",
   "id": "73679973",
   "metadata": {},
   "source": [
    "Histograms can be used to visualize the frequency of continuous variables."
   ]
  },
  {
   "cell_type": "code",
   "execution_count": 10,
   "id": "d2f44865",
   "metadata": {},
   "outputs": [
    {
     "data": {
      "text/plain": [
       "<AxesSubplot:ylabel='Frequency'>"
      ]
     },
     "execution_count": 10,
     "metadata": {},
     "output_type": "execute_result"
    },
    {
     "data": {
      "image/png": "[encoded data removed]",
      "text/plain": [
       "<Figure size 640x480 with 1 Axes>"
      ]
     },
     "metadata": {},
     "output_type": "display_data"
    }
   ],
   "source": [
    "# Creating an histogram for the prices column\n",
    "df_ords_prods_merged['prices'].plot.hist(bins = 25)"
   ]
  },
  {
   "cell_type": "markdown",
   "id": "bf3979a0",
   "metadata": {},
   "source": [
    "The histogram is broken due to abnormal high values in the prices column. <br>\n",
    "We will investigate the issue through a scatterplot."
   ]
  },
  {
   "cell_type": "markdown",
   "id": "3589a052",
   "metadata": {},
   "source": [
    "## 3.3 Scatterplots"
   ]
  },
  {
   "cell_type": "markdown",
   "id": "308c8df7",
   "metadata": {},
   "source": [
    "A scatterplot can be used to cross two variables or even the same variable with itself."
   ]
  },
  {
   "cell_type": "code",
   "execution_count": 11,
   "id": "e6b399b2",
   "metadata": {},
   "outputs": [
    {
     "data": {
      "text/plain": [
       "<AxesSubplot:xlabel='prices', ylabel='prices'>"
      ]
     },
     "execution_count": 11,
     "metadata": {},
     "output_type": "execute_result"
    },
    {
     "data": {
      "image/png": "[encoded data removed]",
      "text/plain": [
       "<Figure size 640x480 with 1 Axes>"
      ]
     },
     "metadata": {},
     "output_type": "display_data"
    }
   ],
   "source": [
    "# Creating a scatterplot\n",
    "sns.scatterplot(x = 'prices', y = 'prices', data = df_ords_prods_merged)"
   ]
  },
  {
   "cell_type": "markdown",
   "id": "add1a8ea",
   "metadata": {},
   "source": [
    "<b> Observations: </b> <br>\n",
    "There are two values way beyond the mean of the prices column (that is 12). We need to identify these values."
   ]
  },
  {
   "cell_type": "markdown",
   "id": "61023ca4",
   "metadata": {},
   "source": [
    "### 3.3.1 Identifying and addressing the issue in \"prices\" column"
   ]
  },
  {
   "cell_type": "code",
   "execution_count": 12,
   "id": "fa3ca9c6",
   "metadata": {},
   "outputs": [
    {
     "data": {
      "text/html": [
       "<div>\n",
       "<style scoped>\n",
       "    .dataframe tbody tr th:only-of-type {\n",
       "        vertical-align: middle;\n",
       "    }\n",
       "\n",
       "    .dataframe tbody tr th {\n",
       "        vertical-align: top;\n",
       "    }\n",
       "\n",
       "    .dataframe thead th {\n",
       "        text-align: right;\n",
       "    }\n",
       "</style>\n",
       "<table border=\"1\" class=\"dataframe\">\n",
       "  <thead>\n",
       "    <tr style=\"text-align: right;\">\n",
       "      <th></th>\n",
       "      <th>order_id</th>\n",
       "      <th>user_id</th>\n",
       "      <th>order_number</th>\n",
       "      <th>orders_day_of_week</th>\n",
       "      <th>order_hour_of_creation</th>\n",
       "      <th>days_since_prior_order</th>\n",
       "      <th>product_id</th>\n",
       "      <th>add_to_cart_order</th>\n",
       "      <th>reordered</th>\n",
       "      <th>product_name</th>\n",
       "      <th>...</th>\n",
       "      <th>price_label</th>\n",
       "      <th>busiest_day</th>\n",
       "      <th>busiest_days</th>\n",
       "      <th>busiest_period_of_day</th>\n",
       "      <th>max_order</th>\n",
       "      <th>loyalty_flag</th>\n",
       "      <th>avg_price</th>\n",
       "      <th>spending_flag</th>\n",
       "      <th>median_days_since_prior_order</th>\n",
       "      <th>order_frequency_flag</th>\n",
       "    </tr>\n",
       "  </thead>\n",
       "  <tbody>\n",
       "    <tr>\n",
       "      <th>8960343</th>\n",
       "      <td>912404</td>\n",
       "      <td>17</td>\n",
       "      <td>12</td>\n",
       "      <td>2</td>\n",
       "      <td>14</td>\n",
       "      <td>5.0</td>\n",
       "      <td>21553</td>\n",
       "      <td>5</td>\n",
       "      <td>0</td>\n",
       "      <td>Lowfat 2% Milkfat Cottage Cheese</td>\n",
       "      <td>...</td>\n",
       "      <td>High-range product</td>\n",
       "      <td>Regularly busy</td>\n",
       "      <td>Regularly busy</td>\n",
       "      <td>Most orders</td>\n",
       "      <td>40</td>\n",
       "      <td>Regular customer</td>\n",
       "      <td>109.67</td>\n",
       "      <td>High spender</td>\n",
       "      <td>5.0</td>\n",
       "      <td>Frequent customer</td>\n",
       "    </tr>\n",
       "    <tr>\n",
       "      <th>8960344</th>\n",
       "      <td>603376</td>\n",
       "      <td>17</td>\n",
       "      <td>22</td>\n",
       "      <td>6</td>\n",
       "      <td>16</td>\n",
       "      <td>4.0</td>\n",
       "      <td>21553</td>\n",
       "      <td>3</td>\n",
       "      <td>1</td>\n",
       "      <td>Lowfat 2% Milkfat Cottage Cheese</td>\n",
       "      <td>...</td>\n",
       "      <td>High-range product</td>\n",
       "      <td>Regularly busy</td>\n",
       "      <td>Regularly busy</td>\n",
       "      <td>Most orders</td>\n",
       "      <td>40</td>\n",
       "      <td>Regular customer</td>\n",
       "      <td>109.67</td>\n",
       "      <td>High spender</td>\n",
       "      <td>5.0</td>\n",
       "      <td>Frequent customer</td>\n",
       "    </tr>\n",
       "    <tr>\n",
       "      <th>8960345</th>\n",
       "      <td>3264360</td>\n",
       "      <td>135</td>\n",
       "      <td>2</td>\n",
       "      <td>2</td>\n",
       "      <td>21</td>\n",
       "      <td>13.0</td>\n",
       "      <td>21553</td>\n",
       "      <td>6</td>\n",
       "      <td>0</td>\n",
       "      <td>Lowfat 2% Milkfat Cottage Cheese</td>\n",
       "      <td>...</td>\n",
       "      <td>High-range product</td>\n",
       "      <td>Regularly busy</td>\n",
       "      <td>Regularly busy</td>\n",
       "      <td>Average orders</td>\n",
       "      <td>4</td>\n",
       "      <td>New customer</td>\n",
       "      <td>1250.25</td>\n",
       "      <td>High spender</td>\n",
       "      <td>12.0</td>\n",
       "      <td>Regular customer</td>\n",
       "    </tr>\n",
       "    <tr>\n",
       "      <th>8960346</th>\n",
       "      <td>892534</td>\n",
       "      <td>135</td>\n",
       "      <td>3</td>\n",
       "      <td>0</td>\n",
       "      <td>8</td>\n",
       "      <td>12.0</td>\n",
       "      <td>21553</td>\n",
       "      <td>3</td>\n",
       "      <td>1</td>\n",
       "      <td>Lowfat 2% Milkfat Cottage Cheese</td>\n",
       "      <td>...</td>\n",
       "      <td>High-range product</td>\n",
       "      <td>Busiest day</td>\n",
       "      <td>Busiest day</td>\n",
       "      <td>Average orders</td>\n",
       "      <td>4</td>\n",
       "      <td>New customer</td>\n",
       "      <td>1250.25</td>\n",
       "      <td>High spender</td>\n",
       "      <td>12.0</td>\n",
       "      <td>Regular customer</td>\n",
       "    </tr>\n",
       "    <tr>\n",
       "      <th>8960347</th>\n",
       "      <td>229704</td>\n",
       "      <td>342</td>\n",
       "      <td>8</td>\n",
       "      <td>1</td>\n",
       "      <td>19</td>\n",
       "      <td>30.0</td>\n",
       "      <td>21553</td>\n",
       "      <td>9</td>\n",
       "      <td>0</td>\n",
       "      <td>Lowfat 2% Milkfat Cottage Cheese</td>\n",
       "      <td>...</td>\n",
       "      <td>High-range product</td>\n",
       "      <td>Regularly busy</td>\n",
       "      <td>Busiest day</td>\n",
       "      <td>Average orders</td>\n",
       "      <td>16</td>\n",
       "      <td>Regular customer</td>\n",
       "      <td>120.09</td>\n",
       "      <td>High spender</td>\n",
       "      <td>23.0</td>\n",
       "      <td>Non-frequent customer</td>\n",
       "    </tr>\n",
       "    <tr>\n",
       "      <th>...</th>\n",
       "      <td>...</td>\n",
       "      <td>...</td>\n",
       "      <td>...</td>\n",
       "      <td>...</td>\n",
       "      <td>...</td>\n",
       "      <td>...</td>\n",
       "      <td>...</td>\n",
       "      <td>...</td>\n",
       "      <td>...</td>\n",
       "      <td>...</td>\n",
       "      <td>...</td>\n",
       "      <td>...</td>\n",
       "      <td>...</td>\n",
       "      <td>...</td>\n",
       "      <td>...</td>\n",
       "      <td>...</td>\n",
       "      <td>...</td>\n",
       "      <td>...</td>\n",
       "      <td>...</td>\n",
       "      <td>...</td>\n",
       "      <td>...</td>\n",
       "    </tr>\n",
       "    <tr>\n",
       "      <th>27128304</th>\n",
       "      <td>2249946</td>\n",
       "      <td>204099</td>\n",
       "      <td>29</td>\n",
       "      <td>0</td>\n",
       "      <td>8</td>\n",
       "      <td>4.0</td>\n",
       "      <td>33664</td>\n",
       "      <td>1</td>\n",
       "      <td>0</td>\n",
       "      <td>2 % Reduced Fat  Milk</td>\n",
       "      <td>...</td>\n",
       "      <td>High-range product</td>\n",
       "      <td>Busiest day</td>\n",
       "      <td>Busiest day</td>\n",
       "      <td>Average orders</td>\n",
       "      <td>39</td>\n",
       "      <td>Regular customer</td>\n",
       "      <td>1137.80</td>\n",
       "      <td>High spender</td>\n",
       "      <td>4.0</td>\n",
       "      <td>Frequent customer</td>\n",
       "    </tr>\n",
       "    <tr>\n",
       "      <th>27128305</th>\n",
       "      <td>2363282</td>\n",
       "      <td>204099</td>\n",
       "      <td>31</td>\n",
       "      <td>0</td>\n",
       "      <td>9</td>\n",
       "      <td>2.0</td>\n",
       "      <td>33664</td>\n",
       "      <td>1</td>\n",
       "      <td>1</td>\n",
       "      <td>2 % Reduced Fat  Milk</td>\n",
       "      <td>...</td>\n",
       "      <td>High-range product</td>\n",
       "      <td>Busiest day</td>\n",
       "      <td>Busiest day</td>\n",
       "      <td>Most orders</td>\n",
       "      <td>39</td>\n",
       "      <td>Regular customer</td>\n",
       "      <td>1137.80</td>\n",
       "      <td>High spender</td>\n",
       "      <td>4.0</td>\n",
       "      <td>Frequent customer</td>\n",
       "    </tr>\n",
       "    <tr>\n",
       "      <th>27128306</th>\n",
       "      <td>3181945</td>\n",
       "      <td>204395</td>\n",
       "      <td>13</td>\n",
       "      <td>3</td>\n",
       "      <td>15</td>\n",
       "      <td>8.0</td>\n",
       "      <td>33664</td>\n",
       "      <td>25</td>\n",
       "      <td>0</td>\n",
       "      <td>2 % Reduced Fat  Milk</td>\n",
       "      <td>...</td>\n",
       "      <td>High-range product</td>\n",
       "      <td>Regularly busy</td>\n",
       "      <td>Least busy</td>\n",
       "      <td>Most orders</td>\n",
       "      <td>15</td>\n",
       "      <td>Regular customer</td>\n",
       "      <td>487.08</td>\n",
       "      <td>High spender</td>\n",
       "      <td>5.0</td>\n",
       "      <td>Frequent customer</td>\n",
       "    </tr>\n",
       "    <tr>\n",
       "      <th>27128307</th>\n",
       "      <td>2486215</td>\n",
       "      <td>205227</td>\n",
       "      <td>7</td>\n",
       "      <td>3</td>\n",
       "      <td>20</td>\n",
       "      <td>4.0</td>\n",
       "      <td>33664</td>\n",
       "      <td>8</td>\n",
       "      <td>0</td>\n",
       "      <td>2 % Reduced Fat  Milk</td>\n",
       "      <td>...</td>\n",
       "      <td>High-range product</td>\n",
       "      <td>Regularly busy</td>\n",
       "      <td>Least busy</td>\n",
       "      <td>Average orders</td>\n",
       "      <td>12</td>\n",
       "      <td>Regular customer</td>\n",
       "      <td>1235.68</td>\n",
       "      <td>High spender</td>\n",
       "      <td>12.0</td>\n",
       "      <td>Regular customer</td>\n",
       "    </tr>\n",
       "    <tr>\n",
       "      <th>27128308</th>\n",
       "      <td>2232716</td>\n",
       "      <td>205227</td>\n",
       "      <td>10</td>\n",
       "      <td>0</td>\n",
       "      <td>11</td>\n",
       "      <td>4.0</td>\n",
       "      <td>33664</td>\n",
       "      <td>23</td>\n",
       "      <td>1</td>\n",
       "      <td>2 % Reduced Fat  Milk</td>\n",
       "      <td>...</td>\n",
       "      <td>High-range product</td>\n",
       "      <td>Busiest day</td>\n",
       "      <td>Busiest day</td>\n",
       "      <td>Most orders</td>\n",
       "      <td>12</td>\n",
       "      <td>Regular customer</td>\n",
       "      <td>1235.68</td>\n",
       "      <td>High spender</td>\n",
       "      <td>12.0</td>\n",
       "      <td>Regular customer</td>\n",
       "    </tr>\n",
       "  </tbody>\n",
       "</table>\n",
       "<p>4776 rows × 23 columns</p>\n",
       "</div>"
      ],
      "text/plain": [
       "         order_id user_id order_number  orders_day_of_week  \\\n",
       "8960343    912404      17           12                   2   \n",
       "8960344    603376      17           22                   6   \n",
       "8960345   3264360     135            2                   2   \n",
       "8960346    892534     135            3                   0   \n",
       "8960347    229704     342            8                   1   \n",
       "...           ...     ...          ...                 ...   \n",
       "27128304  2249946  204099           29                   0   \n",
       "27128305  2363282  204099           31                   0   \n",
       "27128306  3181945  204395           13                   3   \n",
       "27128307  2486215  205227            7                   3   \n",
       "27128308  2232716  205227           10                   0   \n",
       "\n",
       "          order_hour_of_creation  days_since_prior_order product_id  \\\n",
       "8960343                       14                     5.0      21553   \n",
       "8960344                       16                     4.0      21553   \n",
       "8960345                       21                    13.0      21553   \n",
       "8960346                        8                    12.0      21553   \n",
       "8960347                       19                    30.0      21553   \n",
       "...                          ...                     ...        ...   \n",
       "27128304                       8                     4.0      33664   \n",
       "27128305                       9                     2.0      33664   \n",
       "27128306                      15                     8.0      33664   \n",
       "27128307                      20                     4.0      33664   \n",
       "27128308                      11                     4.0      33664   \n",
       "\n",
       "          add_to_cart_order  reordered                      product_name  ...  \\\n",
       "8960343                   5          0  Lowfat 2% Milkfat Cottage Cheese  ...   \n",
       "8960344                   3          1  Lowfat 2% Milkfat Cottage Cheese  ...   \n",
       "8960345                   6          0  Lowfat 2% Milkfat Cottage Cheese  ...   \n",
       "8960346                   3          1  Lowfat 2% Milkfat Cottage Cheese  ...   \n",
       "8960347                   9          0  Lowfat 2% Milkfat Cottage Cheese  ...   \n",
       "...                     ...        ...                               ...  ...   \n",
       "27128304                  1          0             2 % Reduced Fat  Milk  ...   \n",
       "27128305                  1          1             2 % Reduced Fat  Milk  ...   \n",
       "27128306                 25          0             2 % Reduced Fat  Milk  ...   \n",
       "27128307                  8          0             2 % Reduced Fat  Milk  ...   \n",
       "27128308                 23          1             2 % Reduced Fat  Milk  ...   \n",
       "\n",
       "                 price_label     busiest_day    busiest_days  \\\n",
       "8960343   High-range product  Regularly busy  Regularly busy   \n",
       "8960344   High-range product  Regularly busy  Regularly busy   \n",
       "8960345   High-range product  Regularly busy  Regularly busy   \n",
       "8960346   High-range product     Busiest day     Busiest day   \n",
       "8960347   High-range product  Regularly busy     Busiest day   \n",
       "...                      ...             ...             ...   \n",
       "27128304  High-range product     Busiest day     Busiest day   \n",
       "27128305  High-range product     Busiest day     Busiest day   \n",
       "27128306  High-range product  Regularly busy      Least busy   \n",
       "27128307  High-range product  Regularly busy      Least busy   \n",
       "27128308  High-range product     Busiest day     Busiest day   \n",
       "\n",
       "         busiest_period_of_day max_order      loyalty_flag avg_price  \\\n",
       "8960343            Most orders        40  Regular customer    109.67   \n",
       "8960344            Most orders        40  Regular customer    109.67   \n",
       "8960345         Average orders         4      New customer   1250.25   \n",
       "8960346         Average orders         4      New customer   1250.25   \n",
       "8960347         Average orders        16  Regular customer    120.09   \n",
       "...                        ...       ...               ...       ...   \n",
       "27128304        Average orders        39  Regular customer   1137.80   \n",
       "27128305           Most orders        39  Regular customer   1137.80   \n",
       "27128306           Most orders        15  Regular customer    487.08   \n",
       "27128307        Average orders        12  Regular customer   1235.68   \n",
       "27128308           Most orders        12  Regular customer   1235.68   \n",
       "\n",
       "          spending_flag median_days_since_prior_order   order_frequency_flag  \n",
       "8960343    High spender                           5.0      Frequent customer  \n",
       "8960344    High spender                           5.0      Frequent customer  \n",
       "8960345    High spender                          12.0       Regular customer  \n",
       "8960346    High spender                          12.0       Regular customer  \n",
       "8960347    High spender                          23.0  Non-frequent customer  \n",
       "...                 ...                           ...                    ...  \n",
       "27128304   High spender                           4.0      Frequent customer  \n",
       "27128305   High spender                           4.0      Frequent customer  \n",
       "27128306   High spender                           5.0      Frequent customer  \n",
       "27128307   High spender                          12.0       Regular customer  \n",
       "27128308   High spender                          12.0       Regular customer  \n",
       "\n",
       "[4776 rows x 23 columns]"
      ]
     },
     "execution_count": 12,
     "metadata": {},
     "output_type": "execute_result"
    }
   ],
   "source": [
    "# Checking the items that costs more than 100$\n",
    "df_ords_prods_merged.loc[df_ords_prods_merged['prices'] > 100]"
   ]
  },
  {
   "cell_type": "markdown",
   "id": "84d1e071",
   "metadata": {},
   "source": [
    "<b> Observations: </b> <br>\n",
    "4776 rows contains outliers. Two items costs 14.900 and 99.999 $."
   ]
  },
  {
   "cell_type": "code",
   "execution_count": 13,
   "id": "20d28ff3",
   "metadata": {},
   "outputs": [],
   "source": [
    "# Assigning missing values to these outliers\n",
    "df_ords_prods_merged.loc[df_ords_prods_merged['prices'] >100, 'prices'] = np.nan"
   ]
  },
  {
   "cell_type": "code",
   "execution_count": 14,
   "id": "95568459",
   "metadata": {},
   "outputs": [
    {
     "data": {
      "text/plain": [
       "25.0"
      ]
     },
     "execution_count": 14,
     "metadata": {},
     "output_type": "execute_result"
    }
   ],
   "source": [
    "# Checking if there are any other outliers\n",
    "df_ords_prods_merged['prices'].max()"
   ]
  },
  {
   "cell_type": "markdown",
   "id": "707dc21b",
   "metadata": {},
   "source": [
    "Max value is now 25. We have successfully changed the value of the outliers to \"NaN\"."
   ]
  },
  {
   "cell_type": "markdown",
   "id": "9b8ca1f2",
   "metadata": {},
   "source": [
    "### 3.3.2 Back to histogram"
   ]
  },
  {
   "cell_type": "code",
   "execution_count": 15,
   "id": "ab1069ac",
   "metadata": {},
   "outputs": [
    {
     "data": {
      "text/plain": [
       "<AxesSubplot:ylabel='Frequency'>"
      ]
     },
     "execution_count": 15,
     "metadata": {},
     "output_type": "execute_result"
    },
    {
     "data": {
      "image/png": "[encoded data removed]",
      "text/plain": [
       "<Figure size 640x480 with 1 Axes>"
      ]
     },
     "metadata": {},
     "output_type": "display_data"
    }
   ],
   "source": [
    "# Creating a new histogram\n",
    "df_ords_prods_merged['prices'].plot.hist(bins = 25)"
   ]
  },
  {
   "cell_type": "markdown",
   "id": "d7f3fc49",
   "metadata": {},
   "source": [
    "Price of most of the products is between 1 and 15 dollars."
   ]
  },
  {
   "cell_type": "code",
   "execution_count": 16,
   "id": "53beee55",
   "metadata": {},
   "outputs": [
    {
     "data": {
      "text/plain": [
       "<AxesSubplot:ylabel='Frequency'>"
      ]
     },
     "execution_count": 16,
     "metadata": {},
     "output_type": "execute_result"
    },
    {
     "data": {
      "image/png": "[encoded data removed]",
      "text/plain": [
       "<Figure size 640x480 with 1 Axes>"
      ]
     },
     "metadata": {},
     "output_type": "display_data"
    }
   ],
   "source": [
    "# Trying an histogram with more bins\n",
    "df_ords_prods_merged['prices'].plot.hist(bins = 70)"
   ]
  },
  {
   "cell_type": "code",
   "execution_count": 17,
   "id": "cb0e8eac",
   "metadata": {},
   "outputs": [
    {
     "data": {
      "image/png": "[encoded data removed]",
      "text/plain": [
       "<Figure size 640x480 with 1 Axes>"
      ]
     },
     "metadata": {},
     "output_type": "display_data"
    }
   ],
   "source": [
    "# Creating an histogram object\n",
    "hist = df_ords_prods_merged['prices'].plot.hist(bins = 70)"
   ]
  },
  {
   "cell_type": "code",
   "execution_count": 18,
   "id": "ac483c94",
   "metadata": {},
   "outputs": [],
   "source": [
    "# Exporting the file as png\n",
    "hist.figure.savefig(os.path.join(path, '04. Analysis', 'Visualizations', 'histogram_prices.png'))"
   ]
  },
  {
   "cell_type": "markdown",
   "id": "e1287ffc",
   "metadata": {},
   "source": [
    "# 3.4 Line chart"
   ]
  },
  {
   "cell_type": "markdown",
   "id": "65ffe55b",
   "metadata": {},
   "source": [
    "In this section we are going to create a line chart for the prices during different days of the weeks. <br>\n",
    "Since the prices column is continuous and contains a lot of value, is better to create a subset that contains only a part of the total dataframe. <br>\n",
    "Creating representative sample as a subset, it will involve some randomization."
   ]
  },
  {
   "cell_type": "markdown",
   "id": "f173e92a",
   "metadata": {},
   "source": [
    "### 3.4.1 Sampling"
   ]
  },
  {
   "cell_type": "code",
   "execution_count": 19,
   "id": "6c7b021d",
   "metadata": {},
   "outputs": [],
   "source": [
    "# Creating a sample as a subset\n",
    "np.random.seed(4)\n",
    "dev = np.random.rand(len(df_ords_prods_merged)) <= 0.7"
   ]
  },
  {
   "cell_type": "code",
   "execution_count": 20,
   "id": "ebd950c0",
   "metadata": {},
   "outputs": [
    {
     "data": {
      "text/plain": [
       "array([False,  True, False, ...,  True, False,  True])"
      ]
     },
     "execution_count": 20,
     "metadata": {},
     "output_type": "execute_result"
    }
   ],
   "source": [
    "# Testing the dev list created\n",
    "dev"
   ]
  },
  {
   "cell_type": "code",
   "execution_count": 21,
   "id": "ff32e216",
   "metadata": {},
   "outputs": [
    {
     "data": {
      "text/plain": [
       "array([0.38249654, 0.86075523, 0.52050071, 0.76980339, 0.95770057,\n",
       "       0.65565091, 0.77542577, 0.2051172 , 0.66590939, 0.42935793])"
      ]
     },
     "execution_count": 21,
     "metadata": {},
     "output_type": "execute_result"
    }
   ],
   "source": [
    "# Testing np.random.rand function (only 10 numbers, not the entire len of dataframe)\n",
    "np.random.rand(10)"
   ]
  },
  {
   "cell_type": "code",
   "execution_count": 22,
   "id": "92a1d2e5",
   "metadata": {},
   "outputs": [],
   "source": [
    "# Creating a dataframe with 70% of rows of the original dataframe\n",
    "big = df_ords_prods_merged[dev]"
   ]
  },
  {
   "cell_type": "code",
   "execution_count": 23,
   "id": "75dc416d",
   "metadata": {},
   "outputs": [],
   "source": [
    "# Creating a dataframe with 30% of rows of the original dataframe\n",
    "small = df_ords_prods_merged[~dev]"
   ]
  },
  {
   "cell_type": "code",
   "execution_count": 24,
   "id": "58e09894",
   "metadata": {},
   "outputs": [
    {
     "data": {
      "text/plain": [
       "30328763"
      ]
     },
     "execution_count": 24,
     "metadata": {},
     "output_type": "execute_result"
    }
   ],
   "source": [
    "# Checking if the original dataframe and the two samples have the same length\n",
    "len(df_ords_prods_merged)"
   ]
  },
  {
   "cell_type": "code",
   "execution_count": 25,
   "id": "895fe5bb",
   "metadata": {},
   "outputs": [
    {
     "data": {
      "text/plain": [
       "30328763"
      ]
     },
     "execution_count": 25,
     "metadata": {},
     "output_type": "execute_result"
    }
   ],
   "source": [
    "len(big) + len(small)"
   ]
  },
  {
   "cell_type": "code",
   "execution_count": 26,
   "id": "61c6c284",
   "metadata": {},
   "outputs": [],
   "source": [
    "# Creating a new dataframe containing only the two columns needed for the chart\n",
    "df_2 = small[['orders_day_of_week','prices']]"
   ]
  },
  {
   "cell_type": "markdown",
   "id": "38b0c78f",
   "metadata": {},
   "source": [
    "### 3.4.2 Creating the line chart"
   ]
  },
  {
   "cell_type": "code",
   "execution_count": 27,
   "id": "f9ae66fb",
   "metadata": {},
   "outputs": [
    {
     "data": {
      "image/png": "[encoded data removed]",
      "text/plain": [
       "<Figure size 640x480 with 1 Axes>"
      ]
     },
     "metadata": {},
     "output_type": "display_data"
    }
   ],
   "source": [
    "# Creating a linechart\n",
    "line = sns.lineplot(data = df_2, x = 'orders_day_of_week', y = 'prices')"
   ]
  },
  {
   "cell_type": "code",
   "execution_count": 28,
   "id": "1edd6c41",
   "metadata": {},
   "outputs": [],
   "source": [
    "# Exporting the line chart\n",
    "line.figure.savefig(os.path.join(path, '04. Analysis', 'Visualizations', 'line_prices.png'))"
   ]
  }
 ],
 "metadata": {
  "kernelspec": {
   "display_name": "Python 3 (ipykernel)",
   "language": "python",
   "name": "python3"
  },
  "language_info": {
   "codemirror_mode": {
    "name": "ipython",
    "version": 3
   },
   "file_extension": ".py",
   "mimetype": "text/x-python",
   "name": "python",
   "nbconvert_exporter": "python",
   "pygments_lexer": "ipython3",
   "version": "3.9.13"
  }
 },
 "nbformat": 4,
 "nbformat_minor": 5
}
