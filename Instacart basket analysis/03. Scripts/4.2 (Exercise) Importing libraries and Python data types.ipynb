{
 "cells": [
  {
   "cell_type": "markdown",
   "id": "70b00ca7",
   "metadata": {},
   "source": [
    "# 4.2 (Exercise) Importing libraries and Python data types\n",
    "** **\n",
    "## Table of contents:\n",
    "\n",
    " 1. Importing libraries\n",
    " 2. Python data types <br>\n",
    "    2.1 Exploring variables and datatypes <br>\n",
    "    2.2 Operations with variables\n",
    "** **"
   ]
  },
  {
   "cell_type": "markdown",
   "id": "c7290e96",
   "metadata": {},
   "source": [
    "# 1. Importing libraries\n",
    "** **"
   ]
  },
  {
   "cell_type": "code",
   "execution_count": 1,
   "id": "13dfb5f1",
   "metadata": {},
   "outputs": [],
   "source": [
    "# Import libraries\n",
    "import pandas as pd\n",
    "import numpy as np\n",
    "import os"
   ]
  },
  {
   "cell_type": "markdown",
   "id": "c9e3e862",
   "metadata": {},
   "source": [
    "# 2. Python data types\n",
    "** **"
   ]
  },
  {
   "cell_type": "markdown",
   "id": "c179b21b",
   "metadata": {},
   "source": [
    "In this section we will test some data types."
   ]
  },
  {
   "cell_type": "markdown",
   "id": "90314944",
   "metadata": {},
   "source": [
    "## 2.1 Exploring datatypes"
   ]
  },
  {
   "cell_type": "code",
   "execution_count": 2,
   "id": "0d298e17",
   "metadata": {},
   "outputs": [],
   "source": [
    "# Creating a new variable with value \"2\"\n",
    "x = 2"
   ]
  },
  {
   "cell_type": "code",
   "execution_count": 3,
   "id": "952ddb06",
   "metadata": {},
   "outputs": [
    {
     "data": {
      "text/plain": [
       "2"
      ]
     },
     "execution_count": 3,
     "metadata": {},
     "output_type": "execute_result"
    }
   ],
   "source": [
    "# Testing the output\n",
    "x"
   ]
  },
  {
   "cell_type": "code",
   "execution_count": 4,
   "id": "dc6655e0",
   "metadata": {},
   "outputs": [
    {
     "name": "stdout",
     "output_type": "stream",
     "text": [
      "2\n"
     ]
    }
   ],
   "source": [
    "# printing the output with the print() function\n",
    "print(x)"
   ]
  },
  {
   "cell_type": "code",
   "execution_count": 5,
   "id": "e71954c3",
   "metadata": {},
   "outputs": [
    {
     "data": {
      "text/plain": [
       "int"
      ]
     },
     "execution_count": 5,
     "metadata": {},
     "output_type": "execute_result"
    }
   ],
   "source": [
    "# Checking the datatype with the type() function\n",
    "type(x)"
   ]
  },
  {
   "cell_type": "markdown",
   "id": "1680bc67",
   "metadata": {},
   "source": [
    "This value is an integer."
   ]
  },
  {
   "cell_type": "code",
   "execution_count": 6,
   "id": "3598ec38",
   "metadata": {},
   "outputs": [],
   "source": [
    "# Creating a new variable with value \"5.678\"\n",
    "y = 5.678"
   ]
  },
  {
   "cell_type": "code",
   "execution_count": 7,
   "id": "d6eeb619",
   "metadata": {},
   "outputs": [
    {
     "data": {
      "text/plain": [
       "float"
      ]
     },
     "execution_count": 7,
     "metadata": {},
     "output_type": "execute_result"
    }
   ],
   "source": [
    "# Checking the datatype with the type() function\n",
    "type(y)"
   ]
  },
  {
   "cell_type": "markdown",
   "id": "5b3664d5",
   "metadata": {},
   "source": [
    "This is a decimal number, thus is a float."
   ]
  },
  {
   "cell_type": "code",
   "execution_count": 8,
   "id": "5cacc77c",
   "metadata": {},
   "outputs": [],
   "source": [
    "# Creating a new variable containing a string\n",
    "z = 'brazil'"
   ]
  },
  {
   "cell_type": "code",
   "execution_count": 9,
   "id": "005fee9d",
   "metadata": {},
   "outputs": [
    {
     "data": {
      "text/plain": [
       "str"
      ]
     },
     "execution_count": 9,
     "metadata": {},
     "output_type": "execute_result"
    }
   ],
   "source": [
    "# Checking the datatype with the type() function\n",
    "type(z)"
   ]
  },
  {
   "cell_type": "markdown",
   "id": "0a3de0b7",
   "metadata": {},
   "source": [
    "Whenever a characters (a number or a text) is sorrounded by quotes ('), it becomes a string."
   ]
  },
  {
   "cell_type": "code",
   "execution_count": 10,
   "id": "cb5a7fa3",
   "metadata": {},
   "outputs": [
    {
     "data": {
      "text/plain": [
       "bool"
      ]
     },
     "execution_count": 10,
     "metadata": {},
     "output_type": "execute_result"
    }
   ],
   "source": [
    "# Checking the datatype with the type() function\n",
    "type(True)"
   ]
  },
  {
   "cell_type": "code",
   "execution_count": 11,
   "id": "628fc958",
   "metadata": {},
   "outputs": [
    {
     "data": {
      "text/plain": [
       "bool"
      ]
     },
     "execution_count": 11,
     "metadata": {},
     "output_type": "execute_result"
    }
   ],
   "source": [
    "type(False)"
   ]
  },
  {
   "cell_type": "markdown",
   "id": "42372152",
   "metadata": {},
   "source": [
    "True and False are both boolean values."
   ]
  },
  {
   "cell_type": "markdown",
   "id": "1455b430",
   "metadata": {},
   "source": [
    "## 2.2 Operations with variables"
   ]
  },
  {
   "cell_type": "code",
   "execution_count": 12,
   "id": "b9cd951c",
   "metadata": {},
   "outputs": [
    {
     "name": "stdout",
     "output_type": "stream",
     "text": [
      "2\n"
     ]
    }
   ],
   "source": [
    "# Printing the variable\n",
    "print(x)"
   ]
  },
  {
   "cell_type": "code",
   "execution_count": 13,
   "id": "edf896e1",
   "metadata": {},
   "outputs": [
    {
     "data": {
      "text/plain": [
       "6"
      ]
     },
     "execution_count": 13,
     "metadata": {},
     "output_type": "execute_result"
    }
   ],
   "source": [
    "# Performing a sum between the variable and a value\n",
    "x + 4"
   ]
  },
  {
   "cell_type": "code",
   "execution_count": 14,
   "id": "78855f85",
   "metadata": {},
   "outputs": [
    {
     "data": {
      "text/plain": [
       "7.678"
      ]
     },
     "execution_count": 14,
     "metadata": {},
     "output_type": "execute_result"
    }
   ],
   "source": [
    "# Performing a sum between two variables\n",
    "x + y"
   ]
  },
  {
   "cell_type": "code",
   "execution_count": 15,
   "id": "5ffa0aca",
   "metadata": {},
   "outputs": [],
   "source": [
    "# Redefining a variable\n",
    "x = x + 4"
   ]
  },
  {
   "cell_type": "code",
   "execution_count": 16,
   "id": "b9092ee0",
   "metadata": {},
   "outputs": [
    {
     "name": "stdout",
     "output_type": "stream",
     "text": [
      "6\n"
     ]
    }
   ],
   "source": [
    "# Printing the variable with the new value\n",
    "print(x)"
   ]
  },
  {
   "cell_type": "markdown",
   "id": "c865b944",
   "metadata": {},
   "source": [
    "The variable is overwritten with the new value."
   ]
  },
  {
   "cell_type": "code",
   "execution_count": 17,
   "id": "75d58d9c",
   "metadata": {},
   "outputs": [],
   "source": [
    "# Creating two new variables containing strings\n",
    "a = 'Hello, '"
   ]
  },
  {
   "cell_type": "code",
   "execution_count": 18,
   "id": "d0793fd5",
   "metadata": {},
   "outputs": [],
   "source": [
    "b = 'Marley'"
   ]
  },
  {
   "cell_type": "code",
   "execution_count": 19,
   "id": "3007cc59",
   "metadata": {},
   "outputs": [
    {
     "data": {
      "text/plain": [
       "'Hello, Marley'"
      ]
     },
     "execution_count": 19,
     "metadata": {},
     "output_type": "execute_result"
    }
   ],
   "source": [
    "# Concatenating strings\n",
    "a + b"
   ]
  },
  {
   "cell_type": "code",
   "execution_count": 20,
   "id": "73a7dc0d",
   "metadata": {},
   "outputs": [
    {
     "data": {
      "text/plain": [
       "False"
      ]
     },
     "execution_count": 20,
     "metadata": {},
     "output_type": "execute_result"
    }
   ],
   "source": [
    "# Comparing the equality of two variables\n",
    "x == y"
   ]
  },
  {
   "cell_type": "code",
   "execution_count": 21,
   "id": "87ce95c2",
   "metadata": {},
   "outputs": [
    {
     "data": {
      "text/plain": [
       "bool"
      ]
     },
     "execution_count": 21,
     "metadata": {},
     "output_type": "execute_result"
    }
   ],
   "source": [
    "# Checking the datatype of an equality comparison\n",
    "type(x == y)"
   ]
  }
 ],
 "metadata": {
  "kernelspec": {
   "display_name": "Python 3 (ipykernel)",
   "language": "python",
   "name": "python3"
  },
  "language_info": {
   "codemirror_mode": {
    "name": "ipython",
    "version": 3
   },
   "file_extension": ".py",
   "mimetype": "text/x-python",
   "name": "python",
   "nbconvert_exporter": "python",
   "pygments_lexer": "ipython3",
   "version": "3.9.13"
  }
 },
 "nbformat": 4,
 "nbformat_minor": 5
}
