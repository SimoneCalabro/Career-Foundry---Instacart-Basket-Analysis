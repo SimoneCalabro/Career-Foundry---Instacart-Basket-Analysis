{
 "cells": [
  {
   "cell_type": "markdown",
   "id": "246dfbcf",
   "metadata": {},
   "source": [
    "# 5. Deriving new variables\n",
    "** **\n",
    "## Table of contents:\n",
    "\n",
    "1. Importing libraries <br>\n",
    "2. Importing dataframe <br>\n",
    "3. Deriving a new variable\n",
    "    - 3.1 Creating an \"indicator column\" for \"prices\"\n",
    "        - 3.1.1 Method number 1: defining a custom function\n",
    "        - 3.1.2 Method number 2: using the .loc function\n",
    "        - 3.1.3 Creating the new \"price_range\" column in the real dataframe\n",
    "    - 3.2 Creating a new column to check the busiest day\n",
    "        - 3.2.1 Creating the new column with a for-loop\n",
    "4. Tasks\n",
    "    - 4.1 Creating a new column to check the two most busiest and least busiest days\n",
    "    - 4.2 Creating a new column to check the hours with most orders\n",
    "    - 4.3 Exporting the new dataframe with derived variables\n",
    "** **"
   ]
  },
  {
   "cell_type": "markdown",
   "id": "6e6b5cb1",
   "metadata": {},
   "source": [
    "# 1. Importing libraries\n",
    "** **"
   ]
  },
  {
   "cell_type": "code",
   "execution_count": 1,
   "id": "fbc4ba6e",
   "metadata": {},
   "outputs": [],
   "source": [
    "import pandas as pd\n",
    "import numpy as np\n",
    "import os"
   ]
  },
  {
   "cell_type": "markdown",
   "id": "51ad8341",
   "metadata": {},
   "source": [
    "# 2. Importing dataframe\n",
    "** **"
   ]
  },
  {
   "cell_type": "code",
   "execution_count": 2,
   "id": "a0e32bd1",
   "metadata": {},
   "outputs": [],
   "source": [
    "# Creating a path variabile for the folder\n",
    "path = r'C:\\Users\\Simone\\Desktop\\Career Foundry\\Esercizi modulo 5\\Instacart basket analysis'"
   ]
  },
  {
   "cell_type": "code",
   "execution_count": 3,
   "id": "ef61aae3",
   "metadata": {},
   "outputs": [],
   "source": [
    "# Importing the merged dataframe from Prepared Data\n",
    "df_ords_prods_merged = pd.read_pickle(os.path.join(path, '02. Data', 'Prepared Data', 'orders_products_merged.pkl'))"
   ]
  },
  {
   "cell_type": "code",
   "execution_count": 4,
   "id": "9b824671",
   "metadata": {},
   "outputs": [
    {
     "data": {
      "text/html": [
       "<div>\n",
       "<style scoped>\n",
       "    .dataframe tbody tr th:only-of-type {\n",
       "        vertical-align: middle;\n",
       "    }\n",
       "\n",
       "    .dataframe tbody tr th {\n",
       "        vertical-align: top;\n",
       "    }\n",
       "\n",
       "    .dataframe thead th {\n",
       "        text-align: right;\n",
       "    }\n",
       "</style>\n",
       "<table border=\"1\" class=\"dataframe\">\n",
       "  <thead>\n",
       "    <tr style=\"text-align: right;\">\n",
       "      <th></th>\n",
       "      <th>order_id</th>\n",
       "      <th>user_id</th>\n",
       "      <th>order_number</th>\n",
       "      <th>orders_day_of_week</th>\n",
       "      <th>order_hour_of_creation</th>\n",
       "      <th>days_since_prior_order</th>\n",
       "      <th>product_id</th>\n",
       "      <th>add_to_cart_order</th>\n",
       "      <th>reordered</th>\n",
       "      <th>product_name</th>\n",
       "      <th>aisle_id</th>\n",
       "      <th>department_id</th>\n",
       "      <th>prices</th>\n",
       "    </tr>\n",
       "  </thead>\n",
       "  <tbody>\n",
       "    <tr>\n",
       "      <th>0</th>\n",
       "      <td>2398795</td>\n",
       "      <td>1</td>\n",
       "      <td>2</td>\n",
       "      <td>3</td>\n",
       "      <td>7</td>\n",
       "      <td>15.0</td>\n",
       "      <td>196</td>\n",
       "      <td>1</td>\n",
       "      <td>1</td>\n",
       "      <td>Soda</td>\n",
       "      <td>77</td>\n",
       "      <td>7</td>\n",
       "      <td>9.0</td>\n",
       "    </tr>\n",
       "    <tr>\n",
       "      <th>1</th>\n",
       "      <td>473747</td>\n",
       "      <td>1</td>\n",
       "      <td>3</td>\n",
       "      <td>3</td>\n",
       "      <td>12</td>\n",
       "      <td>21.0</td>\n",
       "      <td>196</td>\n",
       "      <td>1</td>\n",
       "      <td>1</td>\n",
       "      <td>Soda</td>\n",
       "      <td>77</td>\n",
       "      <td>7</td>\n",
       "      <td>9.0</td>\n",
       "    </tr>\n",
       "    <tr>\n",
       "      <th>2</th>\n",
       "      <td>2254736</td>\n",
       "      <td>1</td>\n",
       "      <td>4</td>\n",
       "      <td>4</td>\n",
       "      <td>7</td>\n",
       "      <td>29.0</td>\n",
       "      <td>196</td>\n",
       "      <td>1</td>\n",
       "      <td>1</td>\n",
       "      <td>Soda</td>\n",
       "      <td>77</td>\n",
       "      <td>7</td>\n",
       "      <td>9.0</td>\n",
       "    </tr>\n",
       "    <tr>\n",
       "      <th>3</th>\n",
       "      <td>431534</td>\n",
       "      <td>1</td>\n",
       "      <td>5</td>\n",
       "      <td>4</td>\n",
       "      <td>15</td>\n",
       "      <td>28.0</td>\n",
       "      <td>196</td>\n",
       "      <td>1</td>\n",
       "      <td>1</td>\n",
       "      <td>Soda</td>\n",
       "      <td>77</td>\n",
       "      <td>7</td>\n",
       "      <td>9.0</td>\n",
       "    </tr>\n",
       "    <tr>\n",
       "      <th>4</th>\n",
       "      <td>3367565</td>\n",
       "      <td>1</td>\n",
       "      <td>6</td>\n",
       "      <td>2</td>\n",
       "      <td>7</td>\n",
       "      <td>19.0</td>\n",
       "      <td>196</td>\n",
       "      <td>1</td>\n",
       "      <td>1</td>\n",
       "      <td>Soda</td>\n",
       "      <td>77</td>\n",
       "      <td>7</td>\n",
       "      <td>9.0</td>\n",
       "    </tr>\n",
       "  </tbody>\n",
       "</table>\n",
       "</div>"
      ],
      "text/plain": [
       "   order_id  user_id  order_number  orders_day_of_week  \\\n",
       "0   2398795        1             2                   3   \n",
       "1    473747        1             3                   3   \n",
       "2   2254736        1             4                   4   \n",
       "3    431534        1             5                   4   \n",
       "4   3367565        1             6                   2   \n",
       "\n",
       "   order_hour_of_creation  days_since_prior_order  product_id  \\\n",
       "0                       7                    15.0         196   \n",
       "1                      12                    21.0         196   \n",
       "2                       7                    29.0         196   \n",
       "3                      15                    28.0         196   \n",
       "4                       7                    19.0         196   \n",
       "\n",
       "   add_to_cart_order  reordered product_name  aisle_id  department_id  prices  \n",
       "0                  1          1         Soda        77              7     9.0  \n",
       "1                  1          1         Soda        77              7     9.0  \n",
       "2                  1          1         Soda        77              7     9.0  \n",
       "3                  1          1         Soda        77              7     9.0  \n",
       "4                  1          1         Soda        77              7     9.0  "
      ]
     },
     "execution_count": 4,
     "metadata": {},
     "output_type": "execute_result"
    }
   ],
   "source": [
    "# Checking the head\n",
    "df_ords_prods_merged.head()"
   ]
  },
  {
   "cell_type": "markdown",
   "id": "97ced901",
   "metadata": {},
   "source": [
    "# 3. Deriving a new variable\n",
    "** **"
   ]
  },
  {
   "cell_type": "markdown",
   "id": "a243e258",
   "metadata": {},
   "source": [
    "In this section will be shown how is possible to derive (create) a new variable (column) from already existing variables."
   ]
  },
  {
   "cell_type": "markdown",
   "id": "6859209f",
   "metadata": {},
   "source": [
    "## 3.1 Creating an \"indicator column\" for \"prices\""
   ]
  },
  {
   "cell_type": "markdown",
   "id": "cadde8c7",
   "metadata": {},
   "source": [
    "First of all, we will test the process on a subset."
   ]
  },
  {
   "cell_type": "code",
   "execution_count": 5,
   "id": "cd37dea9",
   "metadata": {},
   "outputs": [],
   "source": [
    "# Creating a subset to test (containing only 1 million rows)\n",
    "df = df_ords_prods_merged[:1000000]"
   ]
  },
  {
   "cell_type": "code",
   "execution_count": 6,
   "id": "6fc127cd",
   "metadata": {},
   "outputs": [
    {
     "data": {
      "text/plain": [
       "(1000000, 13)"
      ]
     },
     "execution_count": 6,
     "metadata": {},
     "output_type": "execute_result"
    }
   ],
   "source": [
    "# Checking the shape of the subset\n",
    "df.shape"
   ]
  },
  {
   "cell_type": "markdown",
   "id": "ba3ea817",
   "metadata": {},
   "source": [
    "### 3.1.1 Method number 1: defining a custom function"
   ]
  },
  {
   "cell_type": "code",
   "execution_count": 7,
   "id": "6d01f7c1",
   "metadata": {},
   "outputs": [],
   "source": [
    "# Defining a new function\n",
    "def price_label(row):\n",
    "\n",
    "  if row['prices'] <= 5:\n",
    "    return 'Low-range product'\n",
    "  elif (row['prices'] > 5) and (row['prices'] <= 15):\n",
    "    return 'Mid-range product'\n",
    "  elif row['prices'] > 15:\n",
    "    return 'High range'\n",
    "  else: return 'Not enough data'"
   ]
  },
  {
   "cell_type": "markdown",
   "id": "cfc61b05",
   "metadata": {},
   "source": [
    "The following code defines a new function called \"price_label\" that will check every row of the dataframe and return the following values ('Low-range product', 'Mid-range product', 'High range') if the conditions on the prices column are met. <br>\n",
    "Let's apply the function to our subset, using .apply."
   ]
  },
  {
   "cell_type": "code",
   "execution_count": 8,
   "id": "843eb8a8",
   "metadata": {},
   "outputs": [
    {
     "name": "stderr",
     "output_type": "stream",
     "text": [
      "C:\\Users\\Simone\\AppData\\Local\\Temp\\ipykernel_20620\\4259159084.py:2: SettingWithCopyWarning: \n",
      "A value is trying to be set on a copy of a slice from a DataFrame.\n",
      "Try using .loc[row_indexer,col_indexer] = value instead\n",
      "\n",
      "See the caveats in the documentation: https://pandas.pydata.org/pandas-docs/stable/user_guide/indexing.html#returning-a-view-versus-a-copy\n",
      "  df['price_range'] = df.apply(price_label, axis=1)\n"
     ]
    }
   ],
   "source": [
    "# Using the new function on the subset to create the new column 'price_range'\n",
    "df['price_range'] = df.apply(price_label, axis=1)"
   ]
  },
  {
   "cell_type": "markdown",
   "id": "74b5e9c8",
   "metadata": {},
   "source": [
    "<b> Observations: </b> <br>\n",
    "^ This is not an error message per se, but Python is informing us that this procedure could cause issue and recommends using the loc method. <br>\n",
    "We can ignore this message. The function has been applied anyway."
   ]
  },
  {
   "cell_type": "code",
   "execution_count": 9,
   "id": "84558448",
   "metadata": {},
   "outputs": [
    {
     "data": {
      "text/plain": [
       "Mid-range product    631969\n",
       "Low-range product    368031\n",
       "Name: price_range, dtype: int64"
      ]
     },
     "execution_count": 9,
     "metadata": {},
     "output_type": "execute_result"
    }
   ],
   "source": [
    "# Checking the values in the new column\n",
    "df['price_range'].value_counts(dropna = False)"
   ]
  },
  {
   "cell_type": "markdown",
   "id": "007405e9",
   "metadata": {},
   "source": [
    "There isn't a single product labeled as \"High range\". It does mean that in this subset, there isn't a single product costing more than 15€."
   ]
  },
  {
   "cell_type": "code",
   "execution_count": 10,
   "id": "6ba0607b",
   "metadata": {},
   "outputs": [
    {
     "data": {
      "text/plain": [
       "14.0"
      ]
     },
     "execution_count": 10,
     "metadata": {},
     "output_type": "execute_result"
    }
   ],
   "source": [
    "# Testing what is the max value for the prices column in the subset\n",
    "df['prices'].max()"
   ]
  },
  {
   "cell_type": "markdown",
   "id": "84b0ca0f",
   "metadata": {},
   "source": [
    "<b> Observations: </b> <br>\n",
    "This confirms that there aren't products costing more than 15€ in the subset created."
   ]
  },
  {
   "cell_type": "markdown",
   "id": "b5006d98",
   "metadata": {},
   "source": [
    "### 3.1.2 Method number 2: using the .loc function"
   ]
  },
  {
   "cell_type": "markdown",
   "id": "020acda9",
   "metadata": {},
   "source": [
    "This second method uses the .loc function to establish the conditions of the new column."
   ]
  },
  {
   "cell_type": "code",
   "execution_count": 11,
   "id": "dcbba3f5",
   "metadata": {},
   "outputs": [
    {
     "name": "stderr",
     "output_type": "stream",
     "text": [
      "C:\\Users\\Simone\\AppData\\Local\\Temp\\ipykernel_20620\\1797936803.py:2: SettingWithCopyWarning: \n",
      "A value is trying to be set on a copy of a slice from a DataFrame.\n",
      "Try using .loc[row_indexer,col_indexer] = value instead\n",
      "\n",
      "See the caveats in the documentation: https://pandas.pydata.org/pandas-docs/stable/user_guide/indexing.html#returning-a-view-versus-a-copy\n",
      "  df.loc[df['prices'] > 15, 'price_range_loc'] = 'High-range product'\n"
     ]
    }
   ],
   "source": [
    "# Creating first condition\n",
    "df.loc[df['prices'] > 15, 'price_range_loc'] = 'High-range product'"
   ]
  },
  {
   "cell_type": "code",
   "execution_count": 12,
   "id": "b447b687",
   "metadata": {},
   "outputs": [],
   "source": [
    "# Creating second condition\n",
    "df.loc[(df['prices'] <= 15) & (df['prices'] > 5), 'price_range_loc'] = 'Mid-range product'"
   ]
  },
  {
   "cell_type": "code",
   "execution_count": 13,
   "id": "76909727",
   "metadata": {},
   "outputs": [],
   "source": [
    "# Creating third condition\n",
    "df.loc[df['prices'] <= 5, 'price_range_loc'] = 'Low-range product'"
   ]
  },
  {
   "cell_type": "code",
   "execution_count": 14,
   "id": "d9ff32f8",
   "metadata": {},
   "outputs": [
    {
     "data": {
      "text/plain": [
       "Mid-range product    631969\n",
       "Low-range product    368031\n",
       "Name: price_range_loc, dtype: int64"
      ]
     },
     "execution_count": 14,
     "metadata": {},
     "output_type": "execute_result"
    }
   ],
   "source": [
    "# Checking the values in the new column\n",
    "df['price_range_loc'].value_counts(dropna = False)"
   ]
  },
  {
   "cell_type": "markdown",
   "id": "0d82b3b5",
   "metadata": {},
   "source": [
    "<b> Observations: </b> <br>\n",
    "The results are the same as the first method used."
   ]
  },
  {
   "cell_type": "markdown",
   "id": "e1f1027d",
   "metadata": {},
   "source": [
    "### 3.1.3 Creating the new \"price_range\" column in the real dataframe"
   ]
  },
  {
   "cell_type": "markdown",
   "id": "429e6962",
   "metadata": {},
   "source": [
    "We don't need the subset anymore. It's the time to derive the new variable in the real dataframe, using the .loc method."
   ]
  },
  {
   "cell_type": "code",
   "execution_count": 15,
   "id": "8606a5fd",
   "metadata": {},
   "outputs": [],
   "source": [
    "# Condition 1\n",
    "df_ords_prods_merged.loc[df_ords_prods_merged['prices'] > 15, 'price_range_loc'] = 'High-range product'"
   ]
  },
  {
   "cell_type": "code",
   "execution_count": 16,
   "id": "1f7d6439",
   "metadata": {},
   "outputs": [],
   "source": [
    "# Condition 2\n",
    "df_ords_prods_merged.loc[(df_ords_prods_merged['prices'] <= 15) & (df_ords_prods_merged['prices'] > 5), 'price_range_loc'] = 'Mid-range product'"
   ]
  },
  {
   "cell_type": "code",
   "execution_count": 17,
   "id": "89f70298",
   "metadata": {},
   "outputs": [],
   "source": [
    "# Condition 3\n",
    "df_ords_prods_merged.loc[df_ords_prods_merged['prices'] <= 5, 'price_range_loc'] = 'Low-range product'"
   ]
  },
  {
   "cell_type": "code",
   "execution_count": 18,
   "id": "298c5356",
   "metadata": {},
   "outputs": [
    {
     "data": {
      "text/plain": [
       "Mid-range product     20462144\n",
       "Low-range product      9476774\n",
       "High-range product      389845\n",
       "Name: price_range_loc, dtype: int64"
      ]
     },
     "execution_count": 18,
     "metadata": {},
     "output_type": "execute_result"
    }
   ],
   "source": [
    "# Checking the values in the new column\n",
    "df_ords_prods_merged['price_range_loc'].value_counts(dropna = False)"
   ]
  },
  {
   "cell_type": "markdown",
   "id": "99a8a46f",
   "metadata": {},
   "source": [
    "Here is the distribution of the products in the dataframe. It seems that more than 60% of products ordered is mid-range."
   ]
  },
  {
   "cell_type": "code",
   "execution_count": 19,
   "id": "f8c0fbf5",
   "metadata": {},
   "outputs": [
    {
     "data": {
      "text/html": [
       "<div>\n",
       "<style scoped>\n",
       "    .dataframe tbody tr th:only-of-type {\n",
       "        vertical-align: middle;\n",
       "    }\n",
       "\n",
       "    .dataframe tbody tr th {\n",
       "        vertical-align: top;\n",
       "    }\n",
       "\n",
       "    .dataframe thead th {\n",
       "        text-align: right;\n",
       "    }\n",
       "</style>\n",
       "<table border=\"1\" class=\"dataframe\">\n",
       "  <thead>\n",
       "    <tr style=\"text-align: right;\">\n",
       "      <th></th>\n",
       "      <th>order_id</th>\n",
       "      <th>user_id</th>\n",
       "      <th>order_number</th>\n",
       "      <th>orders_day_of_week</th>\n",
       "      <th>order_hour_of_creation</th>\n",
       "      <th>days_since_prior_order</th>\n",
       "      <th>product_id</th>\n",
       "      <th>add_to_cart_order</th>\n",
       "      <th>reordered</th>\n",
       "      <th>product_name</th>\n",
       "      <th>aisle_id</th>\n",
       "      <th>department_id</th>\n",
       "      <th>prices</th>\n",
       "      <th>price_range_loc</th>\n",
       "    </tr>\n",
       "  </thead>\n",
       "  <tbody>\n",
       "    <tr>\n",
       "      <th>0</th>\n",
       "      <td>2398795</td>\n",
       "      <td>1</td>\n",
       "      <td>2</td>\n",
       "      <td>3</td>\n",
       "      <td>7</td>\n",
       "      <td>15.0</td>\n",
       "      <td>196</td>\n",
       "      <td>1</td>\n",
       "      <td>1</td>\n",
       "      <td>Soda</td>\n",
       "      <td>77</td>\n",
       "      <td>7</td>\n",
       "      <td>9.0</td>\n",
       "      <td>Mid-range product</td>\n",
       "    </tr>\n",
       "    <tr>\n",
       "      <th>1</th>\n",
       "      <td>473747</td>\n",
       "      <td>1</td>\n",
       "      <td>3</td>\n",
       "      <td>3</td>\n",
       "      <td>12</td>\n",
       "      <td>21.0</td>\n",
       "      <td>196</td>\n",
       "      <td>1</td>\n",
       "      <td>1</td>\n",
       "      <td>Soda</td>\n",
       "      <td>77</td>\n",
       "      <td>7</td>\n",
       "      <td>9.0</td>\n",
       "      <td>Mid-range product</td>\n",
       "    </tr>\n",
       "    <tr>\n",
       "      <th>2</th>\n",
       "      <td>2254736</td>\n",
       "      <td>1</td>\n",
       "      <td>4</td>\n",
       "      <td>4</td>\n",
       "      <td>7</td>\n",
       "      <td>29.0</td>\n",
       "      <td>196</td>\n",
       "      <td>1</td>\n",
       "      <td>1</td>\n",
       "      <td>Soda</td>\n",
       "      <td>77</td>\n",
       "      <td>7</td>\n",
       "      <td>9.0</td>\n",
       "      <td>Mid-range product</td>\n",
       "    </tr>\n",
       "    <tr>\n",
       "      <th>3</th>\n",
       "      <td>431534</td>\n",
       "      <td>1</td>\n",
       "      <td>5</td>\n",
       "      <td>4</td>\n",
       "      <td>15</td>\n",
       "      <td>28.0</td>\n",
       "      <td>196</td>\n",
       "      <td>1</td>\n",
       "      <td>1</td>\n",
       "      <td>Soda</td>\n",
       "      <td>77</td>\n",
       "      <td>7</td>\n",
       "      <td>9.0</td>\n",
       "      <td>Mid-range product</td>\n",
       "    </tr>\n",
       "    <tr>\n",
       "      <th>4</th>\n",
       "      <td>3367565</td>\n",
       "      <td>1</td>\n",
       "      <td>6</td>\n",
       "      <td>2</td>\n",
       "      <td>7</td>\n",
       "      <td>19.0</td>\n",
       "      <td>196</td>\n",
       "      <td>1</td>\n",
       "      <td>1</td>\n",
       "      <td>Soda</td>\n",
       "      <td>77</td>\n",
       "      <td>7</td>\n",
       "      <td>9.0</td>\n",
       "      <td>Mid-range product</td>\n",
       "    </tr>\n",
       "  </tbody>\n",
       "</table>\n",
       "</div>"
      ],
      "text/plain": [
       "   order_id  user_id  order_number  orders_day_of_week  \\\n",
       "0   2398795        1             2                   3   \n",
       "1    473747        1             3                   3   \n",
       "2   2254736        1             4                   4   \n",
       "3    431534        1             5                   4   \n",
       "4   3367565        1             6                   2   \n",
       "\n",
       "   order_hour_of_creation  days_since_prior_order  product_id  \\\n",
       "0                       7                    15.0         196   \n",
       "1                      12                    21.0         196   \n",
       "2                       7                    29.0         196   \n",
       "3                      15                    28.0         196   \n",
       "4                       7                    19.0         196   \n",
       "\n",
       "   add_to_cart_order  reordered product_name  aisle_id  department_id  prices  \\\n",
       "0                  1          1         Soda        77              7     9.0   \n",
       "1                  1          1         Soda        77              7     9.0   \n",
       "2                  1          1         Soda        77              7     9.0   \n",
       "3                  1          1         Soda        77              7     9.0   \n",
       "4                  1          1         Soda        77              7     9.0   \n",
       "\n",
       "     price_range_loc  \n",
       "0  Mid-range product  \n",
       "1  Mid-range product  \n",
       "2  Mid-range product  \n",
       "3  Mid-range product  \n",
       "4  Mid-range product  "
      ]
     },
     "execution_count": 19,
     "metadata": {},
     "output_type": "execute_result"
    }
   ],
   "source": [
    "# Testing the head\n",
    "df_ords_prods_merged.head()"
   ]
  },
  {
   "cell_type": "markdown",
   "id": "f04219b0",
   "metadata": {},
   "source": [
    "## 3.2 Creating a new column to check the busiest day"
   ]
  },
  {
   "cell_type": "markdown",
   "id": "9887fb87",
   "metadata": {},
   "source": [
    "In this section we will derive a new variable that will indicate us if the order has been placed in the most busy days or in the least busy."
   ]
  },
  {
   "cell_type": "markdown",
   "id": "8f77025d",
   "metadata": {},
   "source": [
    "### 3.2.1 Creating the new column with a for-loop"
   ]
  },
  {
   "cell_type": "code",
   "execution_count": 20,
   "id": "a2d2e775",
   "metadata": {},
   "outputs": [
    {
     "data": {
      "text/plain": [
       "0    5779087\n",
       "1    5303718\n",
       "6    4190948\n",
       "5    3952326\n",
       "2    3947564\n",
       "3    3600589\n",
       "4    3554531\n",
       "Name: orders_day_of_week, dtype: int64"
      ]
     },
     "execution_count": 20,
     "metadata": {},
     "output_type": "execute_result"
    }
   ],
   "source": [
    "# Checking the frequency of the interested column\n",
    "df_ords_prods_merged['orders_day_of_week'].value_counts (dropna = False)"
   ]
  },
  {
   "cell_type": "markdown",
   "id": "fdf8ae11",
   "metadata": {},
   "source": [
    "<b> Observations: </b> <br>\n",
    "According to the count of values, the day most busy (highest frequency) is Saturday, while the least busy is Wednesday."
   ]
  },
  {
   "cell_type": "code",
   "execution_count": 21,
   "id": "f73119f1",
   "metadata": {},
   "outputs": [],
   "source": [
    "# Creating a list that will check for the values and label them\n",
    "result = []\n",
    "\n",
    "for value in df_ords_prods_merged[\"orders_day_of_week\"]:\n",
    "  if value == 0:\n",
    "    result.append(\"Busiest day\")\n",
    "  elif value == 4:\n",
    "    result.append(\"Least busy\")\n",
    "  else:\n",
    "    result.append(\"Regularly busy\")"
   ]
  },
  {
   "cell_type": "code",
   "execution_count": 22,
   "id": "d7cc8623",
   "metadata": {},
   "outputs": [],
   "source": [
    "# Creating a new column in the dataframe, containing the list created\n",
    "df_ords_prods_merged['busiest_day'] = result"
   ]
  },
  {
   "cell_type": "code",
   "execution_count": 23,
   "id": "70db10e9",
   "metadata": {},
   "outputs": [
    {
     "data": {
      "text/html": [
       "<div>\n",
       "<style scoped>\n",
       "    .dataframe tbody tr th:only-of-type {\n",
       "        vertical-align: middle;\n",
       "    }\n",
       "\n",
       "    .dataframe tbody tr th {\n",
       "        vertical-align: top;\n",
       "    }\n",
       "\n",
       "    .dataframe thead th {\n",
       "        text-align: right;\n",
       "    }\n",
       "</style>\n",
       "<table border=\"1\" class=\"dataframe\">\n",
       "  <thead>\n",
       "    <tr style=\"text-align: right;\">\n",
       "      <th></th>\n",
       "      <th>order_id</th>\n",
       "      <th>user_id</th>\n",
       "      <th>order_number</th>\n",
       "      <th>orders_day_of_week</th>\n",
       "      <th>order_hour_of_creation</th>\n",
       "      <th>days_since_prior_order</th>\n",
       "      <th>product_id</th>\n",
       "      <th>add_to_cart_order</th>\n",
       "      <th>reordered</th>\n",
       "      <th>product_name</th>\n",
       "      <th>aisle_id</th>\n",
       "      <th>department_id</th>\n",
       "      <th>prices</th>\n",
       "      <th>price_range_loc</th>\n",
       "      <th>busiest_day</th>\n",
       "    </tr>\n",
       "  </thead>\n",
       "  <tbody>\n",
       "    <tr>\n",
       "      <th>0</th>\n",
       "      <td>2398795</td>\n",
       "      <td>1</td>\n",
       "      <td>2</td>\n",
       "      <td>3</td>\n",
       "      <td>7</td>\n",
       "      <td>15.0</td>\n",
       "      <td>196</td>\n",
       "      <td>1</td>\n",
       "      <td>1</td>\n",
       "      <td>Soda</td>\n",
       "      <td>77</td>\n",
       "      <td>7</td>\n",
       "      <td>9.0</td>\n",
       "      <td>Mid-range product</td>\n",
       "      <td>Regularly busy</td>\n",
       "    </tr>\n",
       "    <tr>\n",
       "      <th>1</th>\n",
       "      <td>473747</td>\n",
       "      <td>1</td>\n",
       "      <td>3</td>\n",
       "      <td>3</td>\n",
       "      <td>12</td>\n",
       "      <td>21.0</td>\n",
       "      <td>196</td>\n",
       "      <td>1</td>\n",
       "      <td>1</td>\n",
       "      <td>Soda</td>\n",
       "      <td>77</td>\n",
       "      <td>7</td>\n",
       "      <td>9.0</td>\n",
       "      <td>Mid-range product</td>\n",
       "      <td>Regularly busy</td>\n",
       "    </tr>\n",
       "    <tr>\n",
       "      <th>2</th>\n",
       "      <td>2254736</td>\n",
       "      <td>1</td>\n",
       "      <td>4</td>\n",
       "      <td>4</td>\n",
       "      <td>7</td>\n",
       "      <td>29.0</td>\n",
       "      <td>196</td>\n",
       "      <td>1</td>\n",
       "      <td>1</td>\n",
       "      <td>Soda</td>\n",
       "      <td>77</td>\n",
       "      <td>7</td>\n",
       "      <td>9.0</td>\n",
       "      <td>Mid-range product</td>\n",
       "      <td>Least busy</td>\n",
       "    </tr>\n",
       "    <tr>\n",
       "      <th>3</th>\n",
       "      <td>431534</td>\n",
       "      <td>1</td>\n",
       "      <td>5</td>\n",
       "      <td>4</td>\n",
       "      <td>15</td>\n",
       "      <td>28.0</td>\n",
       "      <td>196</td>\n",
       "      <td>1</td>\n",
       "      <td>1</td>\n",
       "      <td>Soda</td>\n",
       "      <td>77</td>\n",
       "      <td>7</td>\n",
       "      <td>9.0</td>\n",
       "      <td>Mid-range product</td>\n",
       "      <td>Least busy</td>\n",
       "    </tr>\n",
       "    <tr>\n",
       "      <th>4</th>\n",
       "      <td>3367565</td>\n",
       "      <td>1</td>\n",
       "      <td>6</td>\n",
       "      <td>2</td>\n",
       "      <td>7</td>\n",
       "      <td>19.0</td>\n",
       "      <td>196</td>\n",
       "      <td>1</td>\n",
       "      <td>1</td>\n",
       "      <td>Soda</td>\n",
       "      <td>77</td>\n",
       "      <td>7</td>\n",
       "      <td>9.0</td>\n",
       "      <td>Mid-range product</td>\n",
       "      <td>Regularly busy</td>\n",
       "    </tr>\n",
       "  </tbody>\n",
       "</table>\n",
       "</div>"
      ],
      "text/plain": [
       "   order_id  user_id  order_number  orders_day_of_week  \\\n",
       "0   2398795        1             2                   3   \n",
       "1    473747        1             3                   3   \n",
       "2   2254736        1             4                   4   \n",
       "3    431534        1             5                   4   \n",
       "4   3367565        1             6                   2   \n",
       "\n",
       "   order_hour_of_creation  days_since_prior_order  product_id  \\\n",
       "0                       7                    15.0         196   \n",
       "1                      12                    21.0         196   \n",
       "2                       7                    29.0         196   \n",
       "3                      15                    28.0         196   \n",
       "4                       7                    19.0         196   \n",
       "\n",
       "   add_to_cart_order  reordered product_name  aisle_id  department_id  prices  \\\n",
       "0                  1          1         Soda        77              7     9.0   \n",
       "1                  1          1         Soda        77              7     9.0   \n",
       "2                  1          1         Soda        77              7     9.0   \n",
       "3                  1          1         Soda        77              7     9.0   \n",
       "4                  1          1         Soda        77              7     9.0   \n",
       "\n",
       "     price_range_loc     busiest_day  \n",
       "0  Mid-range product  Regularly busy  \n",
       "1  Mid-range product  Regularly busy  \n",
       "2  Mid-range product      Least busy  \n",
       "3  Mid-range product      Least busy  \n",
       "4  Mid-range product  Regularly busy  "
      ]
     },
     "execution_count": 23,
     "metadata": {},
     "output_type": "execute_result"
    }
   ],
   "source": [
    "# Checking the head\n",
    "df_ords_prods_merged.head()"
   ]
  },
  {
   "cell_type": "code",
   "execution_count": 24,
   "id": "031c6c3c",
   "metadata": {},
   "outputs": [
    {
     "data": {
      "text/plain": [
       "Regularly busy    20995145\n",
       "Busiest day        5779087\n",
       "Least busy         3554531\n",
       "Name: busiest_day, dtype: int64"
      ]
     },
     "execution_count": 24,
     "metadata": {},
     "output_type": "execute_result"
    }
   ],
   "source": [
    "#Counting the values\n",
    "df_ords_prods_merged['busiest_day'].value_counts(dropna = False)"
   ]
  },
  {
   "cell_type": "markdown",
   "id": "dcf5e38c",
   "metadata": {},
   "source": [
    "Over 60% of the orders are placed in days that are regularly busy, while almost 6 millions are placed during the busiest day (Saturday) and 3 millions and a half during the least busy (Wednesday)."
   ]
  },
  {
   "cell_type": "markdown",
   "id": "5b6a197f",
   "metadata": {},
   "source": [
    "# 4. Tasks\n",
    "** **"
   ]
  },
  {
   "cell_type": "markdown",
   "id": "f9d5ee11",
   "metadata": {},
   "source": [
    "Before diving to the tasks, I will change the name gof the first derived column, that is not intuitive enough."
   ]
  },
  {
   "cell_type": "code",
   "execution_count": 25,
   "id": "4fc466df",
   "metadata": {},
   "outputs": [],
   "source": [
    "# Renaming the price_range_loc column\n",
    "df_ords_prods_merged.rename(columns = {'price_range_loc' : 'price_label'}, inplace = True)"
   ]
  },
  {
   "cell_type": "code",
   "execution_count": 26,
   "id": "2bb8d695",
   "metadata": {},
   "outputs": [
    {
     "data": {
      "text/html": [
       "<div>\n",
       "<style scoped>\n",
       "    .dataframe tbody tr th:only-of-type {\n",
       "        vertical-align: middle;\n",
       "    }\n",
       "\n",
       "    .dataframe tbody tr th {\n",
       "        vertical-align: top;\n",
       "    }\n",
       "\n",
       "    .dataframe thead th {\n",
       "        text-align: right;\n",
       "    }\n",
       "</style>\n",
       "<table border=\"1\" class=\"dataframe\">\n",
       "  <thead>\n",
       "    <tr style=\"text-align: right;\">\n",
       "      <th></th>\n",
       "      <th>order_id</th>\n",
       "      <th>user_id</th>\n",
       "      <th>order_number</th>\n",
       "      <th>orders_day_of_week</th>\n",
       "      <th>order_hour_of_creation</th>\n",
       "      <th>days_since_prior_order</th>\n",
       "      <th>product_id</th>\n",
       "      <th>add_to_cart_order</th>\n",
       "      <th>reordered</th>\n",
       "      <th>product_name</th>\n",
       "      <th>aisle_id</th>\n",
       "      <th>department_id</th>\n",
       "      <th>prices</th>\n",
       "      <th>price_label</th>\n",
       "      <th>busiest_day</th>\n",
       "    </tr>\n",
       "  </thead>\n",
       "  <tbody>\n",
       "    <tr>\n",
       "      <th>0</th>\n",
       "      <td>2398795</td>\n",
       "      <td>1</td>\n",
       "      <td>2</td>\n",
       "      <td>3</td>\n",
       "      <td>7</td>\n",
       "      <td>15.0</td>\n",
       "      <td>196</td>\n",
       "      <td>1</td>\n",
       "      <td>1</td>\n",
       "      <td>Soda</td>\n",
       "      <td>77</td>\n",
       "      <td>7</td>\n",
       "      <td>9.0</td>\n",
       "      <td>Mid-range product</td>\n",
       "      <td>Regularly busy</td>\n",
       "    </tr>\n",
       "    <tr>\n",
       "      <th>1</th>\n",
       "      <td>473747</td>\n",
       "      <td>1</td>\n",
       "      <td>3</td>\n",
       "      <td>3</td>\n",
       "      <td>12</td>\n",
       "      <td>21.0</td>\n",
       "      <td>196</td>\n",
       "      <td>1</td>\n",
       "      <td>1</td>\n",
       "      <td>Soda</td>\n",
       "      <td>77</td>\n",
       "      <td>7</td>\n",
       "      <td>9.0</td>\n",
       "      <td>Mid-range product</td>\n",
       "      <td>Regularly busy</td>\n",
       "    </tr>\n",
       "    <tr>\n",
       "      <th>2</th>\n",
       "      <td>2254736</td>\n",
       "      <td>1</td>\n",
       "      <td>4</td>\n",
       "      <td>4</td>\n",
       "      <td>7</td>\n",
       "      <td>29.0</td>\n",
       "      <td>196</td>\n",
       "      <td>1</td>\n",
       "      <td>1</td>\n",
       "      <td>Soda</td>\n",
       "      <td>77</td>\n",
       "      <td>7</td>\n",
       "      <td>9.0</td>\n",
       "      <td>Mid-range product</td>\n",
       "      <td>Least busy</td>\n",
       "    </tr>\n",
       "    <tr>\n",
       "      <th>3</th>\n",
       "      <td>431534</td>\n",
       "      <td>1</td>\n",
       "      <td>5</td>\n",
       "      <td>4</td>\n",
       "      <td>15</td>\n",
       "      <td>28.0</td>\n",
       "      <td>196</td>\n",
       "      <td>1</td>\n",
       "      <td>1</td>\n",
       "      <td>Soda</td>\n",
       "      <td>77</td>\n",
       "      <td>7</td>\n",
       "      <td>9.0</td>\n",
       "      <td>Mid-range product</td>\n",
       "      <td>Least busy</td>\n",
       "    </tr>\n",
       "    <tr>\n",
       "      <th>4</th>\n",
       "      <td>3367565</td>\n",
       "      <td>1</td>\n",
       "      <td>6</td>\n",
       "      <td>2</td>\n",
       "      <td>7</td>\n",
       "      <td>19.0</td>\n",
       "      <td>196</td>\n",
       "      <td>1</td>\n",
       "      <td>1</td>\n",
       "      <td>Soda</td>\n",
       "      <td>77</td>\n",
       "      <td>7</td>\n",
       "      <td>9.0</td>\n",
       "      <td>Mid-range product</td>\n",
       "      <td>Regularly busy</td>\n",
       "    </tr>\n",
       "  </tbody>\n",
       "</table>\n",
       "</div>"
      ],
      "text/plain": [
       "   order_id  user_id  order_number  orders_day_of_week  \\\n",
       "0   2398795        1             2                   3   \n",
       "1    473747        1             3                   3   \n",
       "2   2254736        1             4                   4   \n",
       "3    431534        1             5                   4   \n",
       "4   3367565        1             6                   2   \n",
       "\n",
       "   order_hour_of_creation  days_since_prior_order  product_id  \\\n",
       "0                       7                    15.0         196   \n",
       "1                      12                    21.0         196   \n",
       "2                       7                    29.0         196   \n",
       "3                      15                    28.0         196   \n",
       "4                       7                    19.0         196   \n",
       "\n",
       "   add_to_cart_order  reordered product_name  aisle_id  department_id  prices  \\\n",
       "0                  1          1         Soda        77              7     9.0   \n",
       "1                  1          1         Soda        77              7     9.0   \n",
       "2                  1          1         Soda        77              7     9.0   \n",
       "3                  1          1         Soda        77              7     9.0   \n",
       "4                  1          1         Soda        77              7     9.0   \n",
       "\n",
       "         price_label     busiest_day  \n",
       "0  Mid-range product  Regularly busy  \n",
       "1  Mid-range product  Regularly busy  \n",
       "2  Mid-range product      Least busy  \n",
       "3  Mid-range product      Least busy  \n",
       "4  Mid-range product  Regularly busy  "
      ]
     },
     "execution_count": 26,
     "metadata": {},
     "output_type": "execute_result"
    }
   ],
   "source": [
    "# Testing the change\n",
    "df_ords_prods_merged.head()"
   ]
  },
  {
   "cell_type": "markdown",
   "id": "29faf89b",
   "metadata": {},
   "source": [
    "## 4.1 Creating a new column to check the two most busiest and least busiest days"
   ]
  },
  {
   "cell_type": "markdown",
   "id": "ec33a4f0",
   "metadata": {},
   "source": [
    "We are going to create a new column that will flag the two most busy days and the two least busy days."
   ]
  },
  {
   "cell_type": "code",
   "execution_count": 27,
   "id": "0e3216e2",
   "metadata": {},
   "outputs": [],
   "source": [
    "# Creating a new list that will check for the values and label them\n",
    "result_2 = []\n",
    "\n",
    "for value in df_ords_prods_merged[\"orders_day_of_week\"]:\n",
    "  if value == 0 or value == 1:\n",
    "    result_2.append(\"Busiest day\")\n",
    "  elif value == 4 or value == 3:\n",
    "    result_2.append(\"Least busy\")\n",
    "  else:\n",
    "    result_2.append(\"Regularly busy\")"
   ]
  },
  {
   "cell_type": "markdown",
   "id": "cff50c0d",
   "metadata": {},
   "source": [
    "0 and 1 (Saturday and Sunday) will be flagged as \"Busiest day\", while 3 and 4 (Tuesday and Wednesday) will be flagged as \"Least busy\"."
   ]
  },
  {
   "cell_type": "code",
   "execution_count": 28,
   "id": "70d64b57",
   "metadata": {},
   "outputs": [],
   "source": [
    "# Creating a new column in the dataframe, containing the list created\n",
    "df_ords_prods_merged['busiest_days'] = result_2"
   ]
  },
  {
   "cell_type": "code",
   "execution_count": 29,
   "id": "21af18db",
   "metadata": {},
   "outputs": [
    {
     "data": {
      "text/html": [
       "<div>\n",
       "<style scoped>\n",
       "    .dataframe tbody tr th:only-of-type {\n",
       "        vertical-align: middle;\n",
       "    }\n",
       "\n",
       "    .dataframe tbody tr th {\n",
       "        vertical-align: top;\n",
       "    }\n",
       "\n",
       "    .dataframe thead th {\n",
       "        text-align: right;\n",
       "    }\n",
       "</style>\n",
       "<table border=\"1\" class=\"dataframe\">\n",
       "  <thead>\n",
       "    <tr style=\"text-align: right;\">\n",
       "      <th></th>\n",
       "      <th>order_id</th>\n",
       "      <th>user_id</th>\n",
       "      <th>order_number</th>\n",
       "      <th>orders_day_of_week</th>\n",
       "      <th>order_hour_of_creation</th>\n",
       "      <th>days_since_prior_order</th>\n",
       "      <th>product_id</th>\n",
       "      <th>add_to_cart_order</th>\n",
       "      <th>reordered</th>\n",
       "      <th>product_name</th>\n",
       "      <th>aisle_id</th>\n",
       "      <th>department_id</th>\n",
       "      <th>prices</th>\n",
       "      <th>price_label</th>\n",
       "      <th>busiest_day</th>\n",
       "      <th>busiest_days</th>\n",
       "    </tr>\n",
       "  </thead>\n",
       "  <tbody>\n",
       "    <tr>\n",
       "      <th>0</th>\n",
       "      <td>2398795</td>\n",
       "      <td>1</td>\n",
       "      <td>2</td>\n",
       "      <td>3</td>\n",
       "      <td>7</td>\n",
       "      <td>15.0</td>\n",
       "      <td>196</td>\n",
       "      <td>1</td>\n",
       "      <td>1</td>\n",
       "      <td>Soda</td>\n",
       "      <td>77</td>\n",
       "      <td>7</td>\n",
       "      <td>9.0</td>\n",
       "      <td>Mid-range product</td>\n",
       "      <td>Regularly busy</td>\n",
       "      <td>Least busy</td>\n",
       "    </tr>\n",
       "    <tr>\n",
       "      <th>1</th>\n",
       "      <td>473747</td>\n",
       "      <td>1</td>\n",
       "      <td>3</td>\n",
       "      <td>3</td>\n",
       "      <td>12</td>\n",
       "      <td>21.0</td>\n",
       "      <td>196</td>\n",
       "      <td>1</td>\n",
       "      <td>1</td>\n",
       "      <td>Soda</td>\n",
       "      <td>77</td>\n",
       "      <td>7</td>\n",
       "      <td>9.0</td>\n",
       "      <td>Mid-range product</td>\n",
       "      <td>Regularly busy</td>\n",
       "      <td>Least busy</td>\n",
       "    </tr>\n",
       "    <tr>\n",
       "      <th>2</th>\n",
       "      <td>2254736</td>\n",
       "      <td>1</td>\n",
       "      <td>4</td>\n",
       "      <td>4</td>\n",
       "      <td>7</td>\n",
       "      <td>29.0</td>\n",
       "      <td>196</td>\n",
       "      <td>1</td>\n",
       "      <td>1</td>\n",
       "      <td>Soda</td>\n",
       "      <td>77</td>\n",
       "      <td>7</td>\n",
       "      <td>9.0</td>\n",
       "      <td>Mid-range product</td>\n",
       "      <td>Least busy</td>\n",
       "      <td>Least busy</td>\n",
       "    </tr>\n",
       "    <tr>\n",
       "      <th>3</th>\n",
       "      <td>431534</td>\n",
       "      <td>1</td>\n",
       "      <td>5</td>\n",
       "      <td>4</td>\n",
       "      <td>15</td>\n",
       "      <td>28.0</td>\n",
       "      <td>196</td>\n",
       "      <td>1</td>\n",
       "      <td>1</td>\n",
       "      <td>Soda</td>\n",
       "      <td>77</td>\n",
       "      <td>7</td>\n",
       "      <td>9.0</td>\n",
       "      <td>Mid-range product</td>\n",
       "      <td>Least busy</td>\n",
       "      <td>Least busy</td>\n",
       "    </tr>\n",
       "    <tr>\n",
       "      <th>4</th>\n",
       "      <td>3367565</td>\n",
       "      <td>1</td>\n",
       "      <td>6</td>\n",
       "      <td>2</td>\n",
       "      <td>7</td>\n",
       "      <td>19.0</td>\n",
       "      <td>196</td>\n",
       "      <td>1</td>\n",
       "      <td>1</td>\n",
       "      <td>Soda</td>\n",
       "      <td>77</td>\n",
       "      <td>7</td>\n",
       "      <td>9.0</td>\n",
       "      <td>Mid-range product</td>\n",
       "      <td>Regularly busy</td>\n",
       "      <td>Regularly busy</td>\n",
       "    </tr>\n",
       "  </tbody>\n",
       "</table>\n",
       "</div>"
      ],
      "text/plain": [
       "   order_id  user_id  order_number  orders_day_of_week  \\\n",
       "0   2398795        1             2                   3   \n",
       "1    473747        1             3                   3   \n",
       "2   2254736        1             4                   4   \n",
       "3    431534        1             5                   4   \n",
       "4   3367565        1             6                   2   \n",
       "\n",
       "   order_hour_of_creation  days_since_prior_order  product_id  \\\n",
       "0                       7                    15.0         196   \n",
       "1                      12                    21.0         196   \n",
       "2                       7                    29.0         196   \n",
       "3                      15                    28.0         196   \n",
       "4                       7                    19.0         196   \n",
       "\n",
       "   add_to_cart_order  reordered product_name  aisle_id  department_id  prices  \\\n",
       "0                  1          1         Soda        77              7     9.0   \n",
       "1                  1          1         Soda        77              7     9.0   \n",
       "2                  1          1         Soda        77              7     9.0   \n",
       "3                  1          1         Soda        77              7     9.0   \n",
       "4                  1          1         Soda        77              7     9.0   \n",
       "\n",
       "         price_label     busiest_day    busiest_days  \n",
       "0  Mid-range product  Regularly busy      Least busy  \n",
       "1  Mid-range product  Regularly busy      Least busy  \n",
       "2  Mid-range product      Least busy      Least busy  \n",
       "3  Mid-range product      Least busy      Least busy  \n",
       "4  Mid-range product  Regularly busy  Regularly busy  "
      ]
     },
     "execution_count": 29,
     "metadata": {},
     "output_type": "execute_result"
    }
   ],
   "source": [
    "# Checking the head\n",
    "df_ords_prods_merged.head()"
   ]
  },
  {
   "cell_type": "markdown",
   "id": "a030ceb3",
   "metadata": {},
   "source": [
    "The new column has been successfully added."
   ]
  },
  {
   "cell_type": "code",
   "execution_count": 30,
   "id": "511b27eb",
   "metadata": {},
   "outputs": [
    {
     "data": {
      "text/plain": [
       "Regularly busy    12090838\n",
       "Busiest day       11082805\n",
       "Least busy         7155120\n",
       "Name: busiest_days, dtype: int64"
      ]
     },
     "execution_count": 30,
     "metadata": {},
     "output_type": "execute_result"
    }
   ],
   "source": [
    "# Checking the values in the new column\n",
    "df_ords_prods_merged['busiest_days'].value_counts(dropna = False)"
   ]
  },
  {
   "cell_type": "markdown",
   "id": "21543bb5",
   "metadata": {},
   "source": [
    "<b> Observations: </b> <br>\n",
    "Sum of values is 30.328.763 (as the total rows of the dataframe). No missing values. <br>\n",
    "In this new column, the \"regularly busy\" days decreased from around 20 millions to around 12 millions, because two more days (Sunday and Tuesday) were \"flagged\" in a different category. <br>\n",
    "\"Busiest days\" increased from almost 6 millions to 11 millions (+5) while \"Least busy\" days increased from around 3 millions and a half to 7. <br>\n",
    "I think this new columns contains data that is more on point, because the values are better distribuited. <br>\n",
    "Also, in the original column, the days 0 and 1 (and 3 and 4 as well) had a similar frequency, so it makes sense to aggregate these days together as the busiests and least busiests."
   ]
  },
  {
   "cell_type": "markdown",
   "id": "32b34f6f",
   "metadata": {},
   "source": [
    "## 4.2 Creating a new column to check the hours with most orders"
   ]
  },
  {
   "cell_type": "markdown",
   "id": "ae360674",
   "metadata": {},
   "source": [
    "In order to derive a new column and flag the hours in some categories, we need to check hours frequency."
   ]
  },
  {
   "cell_type": "code",
   "execution_count": 31,
   "id": "9050a862",
   "metadata": {},
   "outputs": [
    {
     "data": {
      "text/plain": [
       "10    2593725\n",
       "11    2564597\n",
       "14    2517238\n",
       "15    2487586\n",
       "13    2487500\n",
       "12    2445841\n",
       "16    2364969\n",
       "9     2311334\n",
       "17    1943858\n",
       "8     1622394\n",
       "18    1520954\n",
       "19    1169224\n",
       "20     910005\n",
       "7      844665\n",
       "21     746254\n",
       "22     592432\n",
       "23     375889\n",
       "6      274801\n",
       "0      203460\n",
       "1      108110\n",
       "5       82706\n",
       "2       63961\n",
       "4       49400\n",
       "3       47860\n",
       "Name: order_hour_of_creation, dtype: int64"
      ]
     },
     "execution_count": 31,
     "metadata": {},
     "output_type": "execute_result"
    }
   ],
   "source": [
    "# Checking the frequency of the \"order hour of creation\" column\n",
    "df_ords_prods_merged['order_hour_of_creation'].value_counts (dropna = False)"
   ]
  },
  {
   "cell_type": "markdown",
   "id": "372e926f",
   "metadata": {},
   "source": [
    "<b> Observations: </b> <br>\n",
    "The hours should be divided and labeled as “Most orders,” “Average orders,” and “Fewest orders.” <br>\n",
    "Looking at the frequency, the top 8 results goes from 9 to 16, and should be labeled as the hours with \"Most orders\". <br>\n",
    "During the morning (7 and 8) and during 17 to 23, the number of orders slowly decreases, so I will label these hours as \"Average orders\". <br>\n",
    "From 0 to 6 is the period with the \"Fewest orders\", so these hours will be labeled accordingly."
   ]
  },
  {
   "cell_type": "code",
   "execution_count": 32,
   "id": "86313ab4",
   "metadata": {},
   "outputs": [],
   "source": [
    "# Creating a new list that will check for the values and label them\n",
    "result_3 = []\n",
    "\n",
    "for value in df_ords_prods_merged[\"order_hour_of_creation\"]:\n",
    "  if value in [9, 10, 11, 12, 13, 14, 15, 16]:\n",
    "    result_3.append(\"Most orders\")\n",
    "  elif value in [0, 1, 2, 3, 4, 5, 6]:\n",
    "    result_3.append(\"Fewest orders\")\n",
    "  else:\n",
    "    result_3.append(\"Average orders\")"
   ]
  },
  {
   "cell_type": "code",
   "execution_count": 33,
   "id": "86c7bfd5",
   "metadata": {},
   "outputs": [],
   "source": [
    "# Creating a new column in the dataframe, containing the list created\n",
    "df_ords_prods_merged['busiest_period_of_day'] = result_3"
   ]
  },
  {
   "cell_type": "code",
   "execution_count": 34,
   "id": "8c2220b5",
   "metadata": {},
   "outputs": [
    {
     "data": {
      "text/html": [
       "<div>\n",
       "<style scoped>\n",
       "    .dataframe tbody tr th:only-of-type {\n",
       "        vertical-align: middle;\n",
       "    }\n",
       "\n",
       "    .dataframe tbody tr th {\n",
       "        vertical-align: top;\n",
       "    }\n",
       "\n",
       "    .dataframe thead th {\n",
       "        text-align: right;\n",
       "    }\n",
       "</style>\n",
       "<table border=\"1\" class=\"dataframe\">\n",
       "  <thead>\n",
       "    <tr style=\"text-align: right;\">\n",
       "      <th></th>\n",
       "      <th>order_id</th>\n",
       "      <th>user_id</th>\n",
       "      <th>order_number</th>\n",
       "      <th>orders_day_of_week</th>\n",
       "      <th>order_hour_of_creation</th>\n",
       "      <th>days_since_prior_order</th>\n",
       "      <th>product_id</th>\n",
       "      <th>add_to_cart_order</th>\n",
       "      <th>reordered</th>\n",
       "      <th>product_name</th>\n",
       "      <th>aisle_id</th>\n",
       "      <th>department_id</th>\n",
       "      <th>prices</th>\n",
       "      <th>price_label</th>\n",
       "      <th>busiest_day</th>\n",
       "      <th>busiest_days</th>\n",
       "      <th>busiest_period_of_day</th>\n",
       "    </tr>\n",
       "  </thead>\n",
       "  <tbody>\n",
       "    <tr>\n",
       "      <th>0</th>\n",
       "      <td>2398795</td>\n",
       "      <td>1</td>\n",
       "      <td>2</td>\n",
       "      <td>3</td>\n",
       "      <td>7</td>\n",
       "      <td>15.0</td>\n",
       "      <td>196</td>\n",
       "      <td>1</td>\n",
       "      <td>1</td>\n",
       "      <td>Soda</td>\n",
       "      <td>77</td>\n",
       "      <td>7</td>\n",
       "      <td>9.0</td>\n",
       "      <td>Mid-range product</td>\n",
       "      <td>Regularly busy</td>\n",
       "      <td>Least busy</td>\n",
       "      <td>Average orders</td>\n",
       "    </tr>\n",
       "    <tr>\n",
       "      <th>1</th>\n",
       "      <td>473747</td>\n",
       "      <td>1</td>\n",
       "      <td>3</td>\n",
       "      <td>3</td>\n",
       "      <td>12</td>\n",
       "      <td>21.0</td>\n",
       "      <td>196</td>\n",
       "      <td>1</td>\n",
       "      <td>1</td>\n",
       "      <td>Soda</td>\n",
       "      <td>77</td>\n",
       "      <td>7</td>\n",
       "      <td>9.0</td>\n",
       "      <td>Mid-range product</td>\n",
       "      <td>Regularly busy</td>\n",
       "      <td>Least busy</td>\n",
       "      <td>Most orders</td>\n",
       "    </tr>\n",
       "    <tr>\n",
       "      <th>2</th>\n",
       "      <td>2254736</td>\n",
       "      <td>1</td>\n",
       "      <td>4</td>\n",
       "      <td>4</td>\n",
       "      <td>7</td>\n",
       "      <td>29.0</td>\n",
       "      <td>196</td>\n",
       "      <td>1</td>\n",
       "      <td>1</td>\n",
       "      <td>Soda</td>\n",
       "      <td>77</td>\n",
       "      <td>7</td>\n",
       "      <td>9.0</td>\n",
       "      <td>Mid-range product</td>\n",
       "      <td>Least busy</td>\n",
       "      <td>Least busy</td>\n",
       "      <td>Average orders</td>\n",
       "    </tr>\n",
       "    <tr>\n",
       "      <th>3</th>\n",
       "      <td>431534</td>\n",
       "      <td>1</td>\n",
       "      <td>5</td>\n",
       "      <td>4</td>\n",
       "      <td>15</td>\n",
       "      <td>28.0</td>\n",
       "      <td>196</td>\n",
       "      <td>1</td>\n",
       "      <td>1</td>\n",
       "      <td>Soda</td>\n",
       "      <td>77</td>\n",
       "      <td>7</td>\n",
       "      <td>9.0</td>\n",
       "      <td>Mid-range product</td>\n",
       "      <td>Least busy</td>\n",
       "      <td>Least busy</td>\n",
       "      <td>Most orders</td>\n",
       "    </tr>\n",
       "    <tr>\n",
       "      <th>4</th>\n",
       "      <td>3367565</td>\n",
       "      <td>1</td>\n",
       "      <td>6</td>\n",
       "      <td>2</td>\n",
       "      <td>7</td>\n",
       "      <td>19.0</td>\n",
       "      <td>196</td>\n",
       "      <td>1</td>\n",
       "      <td>1</td>\n",
       "      <td>Soda</td>\n",
       "      <td>77</td>\n",
       "      <td>7</td>\n",
       "      <td>9.0</td>\n",
       "      <td>Mid-range product</td>\n",
       "      <td>Regularly busy</td>\n",
       "      <td>Regularly busy</td>\n",
       "      <td>Average orders</td>\n",
       "    </tr>\n",
       "    <tr>\n",
       "      <th>5</th>\n",
       "      <td>550135</td>\n",
       "      <td>1</td>\n",
       "      <td>7</td>\n",
       "      <td>1</td>\n",
       "      <td>9</td>\n",
       "      <td>20.0</td>\n",
       "      <td>196</td>\n",
       "      <td>1</td>\n",
       "      <td>1</td>\n",
       "      <td>Soda</td>\n",
       "      <td>77</td>\n",
       "      <td>7</td>\n",
       "      <td>9.0</td>\n",
       "      <td>Mid-range product</td>\n",
       "      <td>Regularly busy</td>\n",
       "      <td>Busiest day</td>\n",
       "      <td>Most orders</td>\n",
       "    </tr>\n",
       "    <tr>\n",
       "      <th>6</th>\n",
       "      <td>3108588</td>\n",
       "      <td>1</td>\n",
       "      <td>8</td>\n",
       "      <td>1</td>\n",
       "      <td>14</td>\n",
       "      <td>14.0</td>\n",
       "      <td>196</td>\n",
       "      <td>2</td>\n",
       "      <td>1</td>\n",
       "      <td>Soda</td>\n",
       "      <td>77</td>\n",
       "      <td>7</td>\n",
       "      <td>9.0</td>\n",
       "      <td>Mid-range product</td>\n",
       "      <td>Regularly busy</td>\n",
       "      <td>Busiest day</td>\n",
       "      <td>Most orders</td>\n",
       "    </tr>\n",
       "    <tr>\n",
       "      <th>7</th>\n",
       "      <td>2295261</td>\n",
       "      <td>1</td>\n",
       "      <td>9</td>\n",
       "      <td>1</td>\n",
       "      <td>16</td>\n",
       "      <td>0.0</td>\n",
       "      <td>196</td>\n",
       "      <td>4</td>\n",
       "      <td>1</td>\n",
       "      <td>Soda</td>\n",
       "      <td>77</td>\n",
       "      <td>7</td>\n",
       "      <td>9.0</td>\n",
       "      <td>Mid-range product</td>\n",
       "      <td>Regularly busy</td>\n",
       "      <td>Busiest day</td>\n",
       "      <td>Most orders</td>\n",
       "    </tr>\n",
       "    <tr>\n",
       "      <th>8</th>\n",
       "      <td>2550362</td>\n",
       "      <td>1</td>\n",
       "      <td>10</td>\n",
       "      <td>4</td>\n",
       "      <td>8</td>\n",
       "      <td>30.0</td>\n",
       "      <td>196</td>\n",
       "      <td>1</td>\n",
       "      <td>1</td>\n",
       "      <td>Soda</td>\n",
       "      <td>77</td>\n",
       "      <td>7</td>\n",
       "      <td>9.0</td>\n",
       "      <td>Mid-range product</td>\n",
       "      <td>Least busy</td>\n",
       "      <td>Least busy</td>\n",
       "      <td>Average orders</td>\n",
       "    </tr>\n",
       "    <tr>\n",
       "      <th>9</th>\n",
       "      <td>2968173</td>\n",
       "      <td>15</td>\n",
       "      <td>15</td>\n",
       "      <td>1</td>\n",
       "      <td>9</td>\n",
       "      <td>7.0</td>\n",
       "      <td>196</td>\n",
       "      <td>2</td>\n",
       "      <td>0</td>\n",
       "      <td>Soda</td>\n",
       "      <td>77</td>\n",
       "      <td>7</td>\n",
       "      <td>9.0</td>\n",
       "      <td>Mid-range product</td>\n",
       "      <td>Regularly busy</td>\n",
       "      <td>Busiest day</td>\n",
       "      <td>Most orders</td>\n",
       "    </tr>\n",
       "  </tbody>\n",
       "</table>\n",
       "</div>"
      ],
      "text/plain": [
       "   order_id  user_id  order_number  orders_day_of_week  \\\n",
       "0   2398795        1             2                   3   \n",
       "1    473747        1             3                   3   \n",
       "2   2254736        1             4                   4   \n",
       "3    431534        1             5                   4   \n",
       "4   3367565        1             6                   2   \n",
       "5    550135        1             7                   1   \n",
       "6   3108588        1             8                   1   \n",
       "7   2295261        1             9                   1   \n",
       "8   2550362        1            10                   4   \n",
       "9   2968173       15            15                   1   \n",
       "\n",
       "   order_hour_of_creation  days_since_prior_order  product_id  \\\n",
       "0                       7                    15.0         196   \n",
       "1                      12                    21.0         196   \n",
       "2                       7                    29.0         196   \n",
       "3                      15                    28.0         196   \n",
       "4                       7                    19.0         196   \n",
       "5                       9                    20.0         196   \n",
       "6                      14                    14.0         196   \n",
       "7                      16                     0.0         196   \n",
       "8                       8                    30.0         196   \n",
       "9                       9                     7.0         196   \n",
       "\n",
       "   add_to_cart_order  reordered product_name  aisle_id  department_id  prices  \\\n",
       "0                  1          1         Soda        77              7     9.0   \n",
       "1                  1          1         Soda        77              7     9.0   \n",
       "2                  1          1         Soda        77              7     9.0   \n",
       "3                  1          1         Soda        77              7     9.0   \n",
       "4                  1          1         Soda        77              7     9.0   \n",
       "5                  1          1         Soda        77              7     9.0   \n",
       "6                  2          1         Soda        77              7     9.0   \n",
       "7                  4          1         Soda        77              7     9.0   \n",
       "8                  1          1         Soda        77              7     9.0   \n",
       "9                  2          0         Soda        77              7     9.0   \n",
       "\n",
       "         price_label     busiest_day    busiest_days busiest_period_of_day  \n",
       "0  Mid-range product  Regularly busy      Least busy        Average orders  \n",
       "1  Mid-range product  Regularly busy      Least busy           Most orders  \n",
       "2  Mid-range product      Least busy      Least busy        Average orders  \n",
       "3  Mid-range product      Least busy      Least busy           Most orders  \n",
       "4  Mid-range product  Regularly busy  Regularly busy        Average orders  \n",
       "5  Mid-range product  Regularly busy     Busiest day           Most orders  \n",
       "6  Mid-range product  Regularly busy     Busiest day           Most orders  \n",
       "7  Mid-range product  Regularly busy     Busiest day           Most orders  \n",
       "8  Mid-range product      Least busy      Least busy        Average orders  \n",
       "9  Mid-range product  Regularly busy     Busiest day           Most orders  "
      ]
     },
     "execution_count": 34,
     "metadata": {},
     "output_type": "execute_result"
    }
   ],
   "source": [
    "# Testing\n",
    "df_ords_prods_merged.head(10)"
   ]
  },
  {
   "cell_type": "markdown",
   "id": "661d5bf6",
   "metadata": {},
   "source": [
    "The new column has been added successfully."
   ]
  },
  {
   "cell_type": "code",
   "execution_count": 35,
   "id": "af1ebb04",
   "metadata": {},
   "outputs": [
    {
     "data": {
      "text/plain": [
       "Most orders       19772790\n",
       "Average orders     9725675\n",
       "Fewest orders       830298\n",
       "Name: busiest_period_of_day, dtype: int64"
      ]
     },
     "execution_count": 35,
     "metadata": {},
     "output_type": "execute_result"
    }
   ],
   "source": [
    "# Checking the frequency of the new column\n",
    "df_ords_prods_merged['busiest_period_of_day'].value_counts(dropna = False)"
   ]
  },
  {
   "cell_type": "markdown",
   "id": "8248944c",
   "metadata": {},
   "source": [
    "<b> Observations: </b> <br>\n",
    "Around 60% of the orders are placed during the hours with the \"Most orders\". <br>\n",
    "Around 30% of the orders are placed during the hours with \"Average orders\". <br>\n",
    "Only a small percentage of orders are placed from 0 to 6 (\"Fewest orders)."
   ]
  },
  {
   "cell_type": "markdown",
   "id": "6f11e8f3",
   "metadata": {},
   "source": [
    "## 4.3 Exporting the new dataframe with derived variables"
   ]
  },
  {
   "cell_type": "code",
   "execution_count": 36,
   "id": "854cf2b3",
   "metadata": {},
   "outputs": [],
   "source": [
    "# Exporting the new dataframe (with derived columns) in pkl format\n",
    "df_ords_prods_merged.to_pickle(os.path.join(path, '02. Data','Prepared Data', 'orders_products_merged_derived.pkl'))"
   ]
  }
 ],
 "metadata": {
  "kernelspec": {
   "display_name": "Python 3 (ipykernel)",
   "language": "python",
   "name": "python3"
  },
  "language_info": {
   "codemirror_mode": {
    "name": "ipython",
    "version": 3
   },
   "file_extension": ".py",
   "mimetype": "text/x-python",
   "name": "python",
   "nbconvert_exporter": "python",
   "pygments_lexer": "ipython3",
   "version": "3.9.13"
  }
 },
 "nbformat": 4,
 "nbformat_minor": 5
}
