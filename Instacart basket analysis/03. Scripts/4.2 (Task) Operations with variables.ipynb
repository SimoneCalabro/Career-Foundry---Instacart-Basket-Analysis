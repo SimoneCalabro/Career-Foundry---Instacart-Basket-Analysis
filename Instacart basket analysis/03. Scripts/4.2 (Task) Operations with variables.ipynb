{
 "cells": [
  {
   "cell_type": "markdown",
   "id": "bd647445",
   "metadata": {},
   "source": [
    "# 4.2 (Task) Operations with variables\n",
    "** **\n",
    "## Table of contents:\n",
    "\n",
    " 1. Importing libraries\n",
    " 2. Operations with variables <br>\n",
    "    2.1 Operations with integers and floats <br>\n",
    "    2.2 Operations with strings\n",
    "** **"
   ]
  },
  {
   "cell_type": "markdown",
   "id": "19062e08",
   "metadata": {},
   "source": [
    "# 1. Importing libraries\n",
    "** **"
   ]
  },
  {
   "cell_type": "code",
   "execution_count": 1,
   "id": "a14b25d4",
   "metadata": {},
   "outputs": [],
   "source": [
    "# Importing libraries\n",
    "import pandas as pd\n",
    "import numpy as np\n",
    "import os"
   ]
  },
  {
   "cell_type": "markdown",
   "id": "f788d49a",
   "metadata": {},
   "source": [
    "# 2. Operations with variables\n",
    "** **"
   ]
  },
  {
   "cell_type": "markdown",
   "id": "2bf6401b",
   "metadata": {},
   "source": [
    "In this section we will perform some more operations with variables."
   ]
  },
  {
   "cell_type": "markdown",
   "id": "80d97809",
   "metadata": {},
   "source": [
    "## 2.1 Operations with integers and floats"
   ]
  },
  {
   "cell_type": "code",
   "execution_count": 2,
   "id": "aec81cd4",
   "metadata": {},
   "outputs": [],
   "source": [
    "# Creating a new variables\n",
    "x = 50"
   ]
  },
  {
   "cell_type": "code",
   "execution_count": 3,
   "id": "81f83520",
   "metadata": {},
   "outputs": [
    {
     "data": {
      "text/plain": [
       "100"
      ]
     },
     "execution_count": 3,
     "metadata": {},
     "output_type": "execute_result"
    }
   ],
   "source": [
    "# Making a sum using the same variable\n",
    "x + x"
   ]
  },
  {
   "cell_type": "code",
   "execution_count": 4,
   "id": "a6e88bc0",
   "metadata": {},
   "outputs": [],
   "source": [
    "# Creating a new variables\n",
    "y = 25"
   ]
  },
  {
   "cell_type": "code",
   "execution_count": 5,
   "id": "27bef656",
   "metadata": {},
   "outputs": [
    {
     "data": {
      "text/plain": [
       "100"
      ]
     },
     "execution_count": 5,
     "metadata": {},
     "output_type": "execute_result"
    }
   ],
   "source": [
    "# Addition between the variables created\n",
    "x + y + y"
   ]
  },
  {
   "cell_type": "code",
   "execution_count": 6,
   "id": "1ff9d840",
   "metadata": {},
   "outputs": [],
   "source": [
    "# Redefining the \"x\" variable\n",
    "x = x + x + y"
   ]
  },
  {
   "cell_type": "code",
   "execution_count": 7,
   "id": "2b9d13db",
   "metadata": {},
   "outputs": [
    {
     "name": "stdout",
     "output_type": "stream",
     "text": [
      "125\n"
     ]
    }
   ],
   "source": [
    "# Printing the new value\n",
    "print(x)"
   ]
  },
  {
   "cell_type": "markdown",
   "id": "f86a41f8",
   "metadata": {},
   "source": [
    "The \"x\" variable has now a new value."
   ]
  },
  {
   "cell_type": "code",
   "execution_count": 8,
   "id": "b1718694",
   "metadata": {},
   "outputs": [
    {
     "data": {
      "text/plain": [
       "100"
      ]
     },
     "execution_count": 8,
     "metadata": {},
     "output_type": "execute_result"
    }
   ],
   "source": [
    "# Subtracting one variable from the other\n",
    "x - y"
   ]
  },
  {
   "cell_type": "code",
   "execution_count": 9,
   "id": "bb9e7412",
   "metadata": {},
   "outputs": [],
   "source": [
    "# Assigning two floats to two new variables\n",
    "a = 9.765"
   ]
  },
  {
   "cell_type": "code",
   "execution_count": 10,
   "id": "c579455e",
   "metadata": {},
   "outputs": [],
   "source": [
    "b = 2.341"
   ]
  },
  {
   "cell_type": "code",
   "execution_count": 11,
   "id": "d808491f",
   "metadata": {},
   "outputs": [
    {
     "data": {
      "text/plain": [
       "4.171294318667236"
      ]
     },
     "execution_count": 11,
     "metadata": {},
     "output_type": "execute_result"
    }
   ],
   "source": [
    "# Dividing one variable by the other\n",
    "a / b"
   ]
  },
  {
   "cell_type": "markdown",
   "id": "bedc6b85",
   "metadata": {},
   "source": [
    "## 2.2 Operations with strings"
   ]
  },
  {
   "cell_type": "markdown",
   "id": "2acb7068",
   "metadata": {},
   "source": [
    "In this section we will assign letters or words to variables, and then concatenate them together to create words or periods."
   ]
  },
  {
   "cell_type": "code",
   "execution_count": 12,
   "id": "1c5bde38",
   "metadata": {},
   "outputs": [],
   "source": [
    "# Assigning a single letter to variables\n",
    "letter1 = 'h'"
   ]
  },
  {
   "cell_type": "code",
   "execution_count": 13,
   "id": "613ba207",
   "metadata": {},
   "outputs": [],
   "source": [
    "letter2 = 'e'"
   ]
  },
  {
   "cell_type": "code",
   "execution_count": 14,
   "id": "da1c2d63",
   "metadata": {},
   "outputs": [],
   "source": [
    "letter3 = 'l'"
   ]
  },
  {
   "cell_type": "code",
   "execution_count": 15,
   "id": "1992ac05",
   "metadata": {},
   "outputs": [],
   "source": [
    "letter4 = 'o'"
   ]
  },
  {
   "cell_type": "code",
   "execution_count": 16,
   "id": "a70b0b61",
   "metadata": {},
   "outputs": [
    {
     "data": {
      "text/plain": [
       "'hello'"
      ]
     },
     "execution_count": 16,
     "metadata": {},
     "output_type": "execute_result"
    }
   ],
   "source": [
    "#Concatenating the letters together\n",
    "letter1 + letter2 + letter3 + letter3 +letter4"
   ]
  },
  {
   "cell_type": "markdown",
   "id": "49f23261",
   "metadata": {},
   "source": [
    "A word has been created, concatenating together letters."
   ]
  },
  {
   "cell_type": "code",
   "execution_count": 17,
   "id": "8b3ec6ce",
   "metadata": {},
   "outputs": [],
   "source": [
    "# Assigning a single word to variables\n",
    "word1 = 'Hi '"
   ]
  },
  {
   "cell_type": "code",
   "execution_count": 18,
   "id": "99225c82",
   "metadata": {},
   "outputs": [],
   "source": [
    "word2 = 'George, '"
   ]
  },
  {
   "cell_type": "code",
   "execution_count": 19,
   "id": "d2083710",
   "metadata": {},
   "outputs": [],
   "source": [
    "word3 = 'how '"
   ]
  },
  {
   "cell_type": "code",
   "execution_count": 20,
   "id": "f136ad19",
   "metadata": {},
   "outputs": [],
   "source": [
    "word4 = 'are '"
   ]
  },
  {
   "cell_type": "code",
   "execution_count": 21,
   "id": "9fe756ec",
   "metadata": {},
   "outputs": [],
   "source": [
    "word5 = 'you?'"
   ]
  },
  {
   "cell_type": "code",
   "execution_count": 22,
   "id": "a259c4f2",
   "metadata": {},
   "outputs": [
    {
     "data": {
      "text/plain": [
       "'Hi George, how are you?'"
      ]
     },
     "execution_count": 22,
     "metadata": {},
     "output_type": "execute_result"
    }
   ],
   "source": [
    "#Concatenating the words together\n",
    "word1 + word2 + word3 + word4 + word5"
   ]
  },
  {
   "cell_type": "code",
   "execution_count": 23,
   "id": "cca5f56b",
   "metadata": {},
   "outputs": [],
   "source": [
    "# Assigning some more single words to variables\n",
    "word6 = 'I '"
   ]
  },
  {
   "cell_type": "code",
   "execution_count": 24,
   "id": "6048d32a",
   "metadata": {},
   "outputs": [],
   "source": [
    "word7 = 'am '"
   ]
  },
  {
   "cell_type": "code",
   "execution_count": 25,
   "id": "80d665a9",
   "metadata": {},
   "outputs": [],
   "source": [
    "word8 = 'fine, '"
   ]
  },
  {
   "cell_type": "code",
   "execution_count": 26,
   "id": "8bcaada3",
   "metadata": {},
   "outputs": [],
   "source": [
    "word9 = 'thanks!'"
   ]
  },
  {
   "cell_type": "code",
   "execution_count": 27,
   "id": "5e73fc0a",
   "metadata": {},
   "outputs": [
    {
     "data": {
      "text/plain": [
       "'I am fine, thanks!'"
      ]
     },
     "execution_count": 27,
     "metadata": {},
     "output_type": "execute_result"
    }
   ],
   "source": [
    "#Concatenating the words together\n",
    "word6 + word7 + word8 + word9"
   ]
  },
  {
   "cell_type": "markdown",
   "id": "efca7322",
   "metadata": {},
   "source": [
    "Two periods have been created, concatenating together words."
   ]
  }
 ],
 "metadata": {
  "kernelspec": {
   "display_name": "Python 3 (ipykernel)",
   "language": "python",
   "name": "python3"
  },
  "language_info": {
   "codemirror_mode": {
    "name": "ipython",
    "version": 3
   },
   "file_extension": ".py",
   "mimetype": "text/x-python",
   "name": "python",
   "nbconvert_exporter": "python",
   "pygments_lexer": "ipython3",
   "version": "3.9.13"
  }
 },
 "nbformat": 4,
 "nbformat_minor": 5
}
